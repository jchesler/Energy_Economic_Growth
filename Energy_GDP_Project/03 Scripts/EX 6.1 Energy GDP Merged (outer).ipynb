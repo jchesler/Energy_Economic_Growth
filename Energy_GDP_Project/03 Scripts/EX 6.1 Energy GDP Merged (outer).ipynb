{
 "cells": [
  {
   "cell_type": "code",
   "execution_count": 1,
   "id": "689fba66",
   "metadata": {},
   "outputs": [],
   "source": [
    "#import libraries\n",
    "import pandas as pd\n",
    "import numpy as np\n",
    "import os"
   ]
  },
  {
   "cell_type": "code",
   "execution_count": 2,
   "id": "9d1fd783",
   "metadata": {},
   "outputs": [],
   "source": [
    "#create path\n",
    "path = r'C:\\Users\\jacob\\Documents\\Data Analytics\\Data Immersion\\Achievement 6\\Energy_GDP_Project'"
   ]
  },
  {
   "cell_type": "code",
   "execution_count": 3,
   "id": "80951bd8",
   "metadata": {},
   "outputs": [],
   "source": [
    "#import electricity access data (ea)\n",
    "ea = pd.read_csv(os.path.join(path, '02 data', 'prepared data', 'electricity_access_wrangled.csv'))"
   ]
  },
  {
   "cell_type": "code",
   "execution_count": 4,
   "id": "0e683131",
   "metadata": {},
   "outputs": [
    {
     "data": {
      "text/html": [
       "<div>\n",
       "<style scoped>\n",
       "    .dataframe tbody tr th:only-of-type {\n",
       "        vertical-align: middle;\n",
       "    }\n",
       "\n",
       "    .dataframe tbody tr th {\n",
       "        vertical-align: top;\n",
       "    }\n",
       "\n",
       "    .dataframe thead th {\n",
       "        text-align: right;\n",
       "    }\n",
       "</style>\n",
       "<table border=\"1\" class=\"dataframe\">\n",
       "  <thead>\n",
       "    <tr style=\"text-align: right;\">\n",
       "      <th></th>\n",
       "      <th>country</th>\n",
       "      <th>year</th>\n",
       "      <th>combined_key</th>\n",
       "      <th>ea_%_pop</th>\n",
       "    </tr>\n",
       "  </thead>\n",
       "  <tbody>\n",
       "    <tr>\n",
       "      <th>0</th>\n",
       "      <td>Afghanistan</td>\n",
       "      <td>2000</td>\n",
       "      <td>Afghanistan, 2000</td>\n",
       "      <td>4.446891</td>\n",
       "    </tr>\n",
       "    <tr>\n",
       "      <th>1</th>\n",
       "      <td>Afghanistan</td>\n",
       "      <td>2001</td>\n",
       "      <td>Afghanistan, 2001</td>\n",
       "      <td>9.294527</td>\n",
       "    </tr>\n",
       "    <tr>\n",
       "      <th>2</th>\n",
       "      <td>Afghanistan</td>\n",
       "      <td>2002</td>\n",
       "      <td>Afghanistan, 2002</td>\n",
       "      <td>14.133616</td>\n",
       "    </tr>\n",
       "    <tr>\n",
       "      <th>3</th>\n",
       "      <td>Afghanistan</td>\n",
       "      <td>2003</td>\n",
       "      <td>Afghanistan, 2003</td>\n",
       "      <td>18.971165</td>\n",
       "    </tr>\n",
       "    <tr>\n",
       "      <th>4</th>\n",
       "      <td>Afghanistan</td>\n",
       "      <td>2004</td>\n",
       "      <td>Afghanistan, 2004</td>\n",
       "      <td>23.814182</td>\n",
       "    </tr>\n",
       "  </tbody>\n",
       "</table>\n",
       "</div>"
      ],
      "text/plain": [
       "       country  year       combined_key   ea_%_pop\n",
       "0  Afghanistan  2000  Afghanistan, 2000   4.446891\n",
       "1  Afghanistan  2001  Afghanistan, 2001   9.294527\n",
       "2  Afghanistan  2002  Afghanistan, 2002  14.133616\n",
       "3  Afghanistan  2003  Afghanistan, 2003  18.971165\n",
       "4  Afghanistan  2004  Afghanistan, 2004  23.814182"
      ]
     },
     "execution_count": 4,
     "metadata": {},
     "output_type": "execute_result"
    }
   ],
   "source": [
    "ea.head()"
   ]
  },
  {
   "cell_type": "code",
   "execution_count": 5,
   "id": "0e5d4834",
   "metadata": {},
   "outputs": [
    {
     "data": {
      "text/plain": [
       "(7348, 4)"
      ]
     },
     "execution_count": 5,
     "metadata": {},
     "output_type": "execute_result"
    }
   ],
   "source": [
    "ea.shape"
   ]
  },
  {
   "cell_type": "code",
   "execution_count": 6,
   "id": "2cb3348e",
   "metadata": {},
   "outputs": [],
   "source": [
    "#import energy from nuclear (nuc)\n",
    "nuc = pd.read_csv(os.path.join(path, '02 data', 'prepared data', 'energy_from_nuclear_wrangled.csv'))"
   ]
  },
  {
   "cell_type": "code",
   "execution_count": 7,
   "id": "6b703ea4",
   "metadata": {},
   "outputs": [
    {
     "data": {
      "text/html": [
       "<div>\n",
       "<style scoped>\n",
       "    .dataframe tbody tr th:only-of-type {\n",
       "        vertical-align: middle;\n",
       "    }\n",
       "\n",
       "    .dataframe tbody tr th {\n",
       "        vertical-align: top;\n",
       "    }\n",
       "\n",
       "    .dataframe thead th {\n",
       "        text-align: right;\n",
       "    }\n",
       "</style>\n",
       "<table border=\"1\" class=\"dataframe\">\n",
       "  <thead>\n",
       "    <tr style=\"text-align: right;\">\n",
       "      <th></th>\n",
       "      <th>country</th>\n",
       "      <th>year</th>\n",
       "      <th>combined_key</th>\n",
       "      <th>%_energy_nuclear</th>\n",
       "    </tr>\n",
       "  </thead>\n",
       "  <tbody>\n",
       "    <tr>\n",
       "      <th>0</th>\n",
       "      <td>Afghanistan</td>\n",
       "      <td>1990</td>\n",
       "      <td>Afghanistan, 1990</td>\n",
       "      <td>0.0</td>\n",
       "    </tr>\n",
       "    <tr>\n",
       "      <th>1</th>\n",
       "      <td>Afghanistan</td>\n",
       "      <td>1991</td>\n",
       "      <td>Afghanistan, 1991</td>\n",
       "      <td>0.0</td>\n",
       "    </tr>\n",
       "    <tr>\n",
       "      <th>2</th>\n",
       "      <td>Afghanistan</td>\n",
       "      <td>1992</td>\n",
       "      <td>Afghanistan, 1992</td>\n",
       "      <td>0.0</td>\n",
       "    </tr>\n",
       "    <tr>\n",
       "      <th>3</th>\n",
       "      <td>Afghanistan</td>\n",
       "      <td>1993</td>\n",
       "      <td>Afghanistan, 1993</td>\n",
       "      <td>0.0</td>\n",
       "    </tr>\n",
       "    <tr>\n",
       "      <th>4</th>\n",
       "      <td>Afghanistan</td>\n",
       "      <td>1994</td>\n",
       "      <td>Afghanistan, 1994</td>\n",
       "      <td>0.0</td>\n",
       "    </tr>\n",
       "  </tbody>\n",
       "</table>\n",
       "</div>"
      ],
      "text/plain": [
       "       country  year       combined_key  %_energy_nuclear\n",
       "0  Afghanistan  1990  Afghanistan, 1990               0.0\n",
       "1  Afghanistan  1991  Afghanistan, 1991               0.0\n",
       "2  Afghanistan  1992  Afghanistan, 1992               0.0\n",
       "3  Afghanistan  1993  Afghanistan, 1993               0.0\n",
       "4  Afghanistan  1994  Afghanistan, 1994               0.0"
      ]
     },
     "execution_count": 7,
     "metadata": {},
     "output_type": "execute_result"
    }
   ],
   "source": [
    "#check output\n",
    "nuc.head()"
   ]
  },
  {
   "cell_type": "code",
   "execution_count": 8,
   "id": "f63310f0",
   "metadata": {},
   "outputs": [
    {
     "data": {
      "text/plain": [
       "(6916, 4)"
      ]
     },
     "execution_count": 8,
     "metadata": {},
     "output_type": "execute_result"
    }
   ],
   "source": [
    "nuc.shape"
   ]
  },
  {
   "cell_type": "code",
   "execution_count": 9,
   "id": "56f7bc30",
   "metadata": {},
   "outputs": [],
   "source": [
    "#import energy from oil gas coal (ogc) data\n",
    "ogc = pd.read_csv(os.path.join(path,'02 data', 'prepared data', 'energy_from_oil_gas_coal_wrangled.csv'))"
   ]
  },
  {
   "cell_type": "code",
   "execution_count": 10,
   "id": "d30b3e48",
   "metadata": {},
   "outputs": [
    {
     "data": {
      "text/html": [
       "<div>\n",
       "<style scoped>\n",
       "    .dataframe tbody tr th:only-of-type {\n",
       "        vertical-align: middle;\n",
       "    }\n",
       "\n",
       "    .dataframe tbody tr th {\n",
       "        vertical-align: top;\n",
       "    }\n",
       "\n",
       "    .dataframe thead th {\n",
       "        text-align: right;\n",
       "    }\n",
       "</style>\n",
       "<table border=\"1\" class=\"dataframe\">\n",
       "  <thead>\n",
       "    <tr style=\"text-align: right;\">\n",
       "      <th></th>\n",
       "      <th>country</th>\n",
       "      <th>year</th>\n",
       "      <th>combined_key</th>\n",
       "      <th>%_energy_fossil_fuels</th>\n",
       "    </tr>\n",
       "  </thead>\n",
       "  <tbody>\n",
       "    <tr>\n",
       "      <th>0</th>\n",
       "      <td>Afghanistan</td>\n",
       "      <td>1990</td>\n",
       "      <td>Afghanistan, 1990</td>\n",
       "      <td>0.0</td>\n",
       "    </tr>\n",
       "    <tr>\n",
       "      <th>1</th>\n",
       "      <td>Afghanistan</td>\n",
       "      <td>1991</td>\n",
       "      <td>Afghanistan, 1991</td>\n",
       "      <td>0.0</td>\n",
       "    </tr>\n",
       "    <tr>\n",
       "      <th>2</th>\n",
       "      <td>Afghanistan</td>\n",
       "      <td>1992</td>\n",
       "      <td>Afghanistan, 1992</td>\n",
       "      <td>0.0</td>\n",
       "    </tr>\n",
       "    <tr>\n",
       "      <th>3</th>\n",
       "      <td>Afghanistan</td>\n",
       "      <td>1993</td>\n",
       "      <td>Afghanistan, 1993</td>\n",
       "      <td>0.0</td>\n",
       "    </tr>\n",
       "    <tr>\n",
       "      <th>4</th>\n",
       "      <td>Afghanistan</td>\n",
       "      <td>1994</td>\n",
       "      <td>Afghanistan, 1994</td>\n",
       "      <td>0.0</td>\n",
       "    </tr>\n",
       "  </tbody>\n",
       "</table>\n",
       "</div>"
      ],
      "text/plain": [
       "       country  year       combined_key  %_energy_fossil_fuels\n",
       "0  Afghanistan  1990  Afghanistan, 1990                    0.0\n",
       "1  Afghanistan  1991  Afghanistan, 1991                    0.0\n",
       "2  Afghanistan  1992  Afghanistan, 1992                    0.0\n",
       "3  Afghanistan  1993  Afghanistan, 1993                    0.0\n",
       "4  Afghanistan  1994  Afghanistan, 1994                    0.0"
      ]
     },
     "execution_count": 10,
     "metadata": {},
     "output_type": "execute_result"
    }
   ],
   "source": [
    "#check output\n",
    "ogc.head()"
   ]
  },
  {
   "cell_type": "code",
   "execution_count": 11,
   "id": "be8e8bef",
   "metadata": {},
   "outputs": [
    {
     "data": {
      "text/plain": [
       "(6916, 4)"
      ]
     },
     "execution_count": 11,
     "metadata": {},
     "output_type": "execute_result"
    }
   ],
   "source": [
    "ogc.shape"
   ]
  },
  {
   "cell_type": "code",
   "execution_count": 12,
   "id": "652f01a5",
   "metadata": {},
   "outputs": [],
   "source": [
    "#import enrgy from renewables data (renew)\n",
    "renew = pd.read_csv(os.path.join(path, '02 data', 'prepared data', 'energy_from_renewables_wrangled.csv'))"
   ]
  },
  {
   "cell_type": "code",
   "execution_count": 13,
   "id": "6a9dcc6b",
   "metadata": {},
   "outputs": [
    {
     "data": {
      "text/html": [
       "<div>\n",
       "<style scoped>\n",
       "    .dataframe tbody tr th:only-of-type {\n",
       "        vertical-align: middle;\n",
       "    }\n",
       "\n",
       "    .dataframe tbody tr th {\n",
       "        vertical-align: top;\n",
       "    }\n",
       "\n",
       "    .dataframe thead th {\n",
       "        text-align: right;\n",
       "    }\n",
       "</style>\n",
       "<table border=\"1\" class=\"dataframe\">\n",
       "  <thead>\n",
       "    <tr style=\"text-align: right;\">\n",
       "      <th></th>\n",
       "      <th>country</th>\n",
       "      <th>year</th>\n",
       "      <th>combined_key</th>\n",
       "      <th>%_energy_renewables</th>\n",
       "    </tr>\n",
       "  </thead>\n",
       "  <tbody>\n",
       "    <tr>\n",
       "      <th>0</th>\n",
       "      <td>Afghanistan</td>\n",
       "      <td>1990</td>\n",
       "      <td>Afghanistan, 1990</td>\n",
       "      <td>0.0</td>\n",
       "    </tr>\n",
       "    <tr>\n",
       "      <th>1</th>\n",
       "      <td>Afghanistan</td>\n",
       "      <td>1991</td>\n",
       "      <td>Afghanistan, 1991</td>\n",
       "      <td>0.0</td>\n",
       "    </tr>\n",
       "    <tr>\n",
       "      <th>2</th>\n",
       "      <td>Afghanistan</td>\n",
       "      <td>1992</td>\n",
       "      <td>Afghanistan, 1992</td>\n",
       "      <td>0.0</td>\n",
       "    </tr>\n",
       "    <tr>\n",
       "      <th>3</th>\n",
       "      <td>Afghanistan</td>\n",
       "      <td>1993</td>\n",
       "      <td>Afghanistan, 1993</td>\n",
       "      <td>0.0</td>\n",
       "    </tr>\n",
       "    <tr>\n",
       "      <th>4</th>\n",
       "      <td>Afghanistan</td>\n",
       "      <td>1994</td>\n",
       "      <td>Afghanistan, 1994</td>\n",
       "      <td>0.0</td>\n",
       "    </tr>\n",
       "  </tbody>\n",
       "</table>\n",
       "</div>"
      ],
      "text/plain": [
       "       country  year       combined_key  %_energy_renewables\n",
       "0  Afghanistan  1990  Afghanistan, 1990                  0.0\n",
       "1  Afghanistan  1991  Afghanistan, 1991                  0.0\n",
       "2  Afghanistan  1992  Afghanistan, 1992                  0.0\n",
       "3  Afghanistan  1993  Afghanistan, 1993                  0.0\n",
       "4  Afghanistan  1994  Afghanistan, 1994                  0.0"
      ]
     },
     "execution_count": 13,
     "metadata": {},
     "output_type": "execute_result"
    }
   ],
   "source": [
    "#check output\n",
    "renew.head()"
   ]
  },
  {
   "cell_type": "code",
   "execution_count": 14,
   "id": "ebd1bc2b",
   "metadata": {},
   "outputs": [
    {
     "data": {
      "text/plain": [
       "(6916, 4)"
      ]
     },
     "execution_count": 14,
     "metadata": {},
     "output_type": "execute_result"
    }
   ],
   "source": [
    "renew.shape"
   ]
  },
  {
   "cell_type": "code",
   "execution_count": 15,
   "id": "45552264",
   "metadata": {},
   "outputs": [],
   "source": [
    "#import GDP per capita data (gdp)\n",
    "gdp = pd.read_csv(os.path.join(path, '02 data', 'prepared data', 'gdp_per_capita_wrangled.csv'))"
   ]
  },
  {
   "cell_type": "code",
   "execution_count": 16,
   "id": "db612454",
   "metadata": {},
   "outputs": [
    {
     "data": {
      "text/html": [
       "<div>\n",
       "<style scoped>\n",
       "    .dataframe tbody tr th:only-of-type {\n",
       "        vertical-align: middle;\n",
       "    }\n",
       "\n",
       "    .dataframe tbody tr th {\n",
       "        vertical-align: top;\n",
       "    }\n",
       "\n",
       "    .dataframe thead th {\n",
       "        text-align: right;\n",
       "    }\n",
       "</style>\n",
       "<table border=\"1\" class=\"dataframe\">\n",
       "  <thead>\n",
       "    <tr style=\"text-align: right;\">\n",
       "      <th></th>\n",
       "      <th>country</th>\n",
       "      <th>year</th>\n",
       "      <th>combined_key</th>\n",
       "      <th>gdp</th>\n",
       "    </tr>\n",
       "  </thead>\n",
       "  <tbody>\n",
       "    <tr>\n",
       "      <th>0</th>\n",
       "      <td>Afghanistan</td>\n",
       "      <td>1990</td>\n",
       "      <td>Afghanistan, 1990</td>\n",
       "      <td>183.532775</td>\n",
       "    </tr>\n",
       "    <tr>\n",
       "      <th>1</th>\n",
       "      <td>Afghanistan</td>\n",
       "      <td>1991</td>\n",
       "      <td>Afghanistan, 1991</td>\n",
       "      <td>183.532775</td>\n",
       "    </tr>\n",
       "    <tr>\n",
       "      <th>2</th>\n",
       "      <td>Afghanistan</td>\n",
       "      <td>1992</td>\n",
       "      <td>Afghanistan, 1992</td>\n",
       "      <td>183.532775</td>\n",
       "    </tr>\n",
       "    <tr>\n",
       "      <th>3</th>\n",
       "      <td>Afghanistan</td>\n",
       "      <td>1993</td>\n",
       "      <td>Afghanistan, 1993</td>\n",
       "      <td>183.532775</td>\n",
       "    </tr>\n",
       "    <tr>\n",
       "      <th>4</th>\n",
       "      <td>Afghanistan</td>\n",
       "      <td>1994</td>\n",
       "      <td>Afghanistan, 1994</td>\n",
       "      <td>183.532775</td>\n",
       "    </tr>\n",
       "  </tbody>\n",
       "</table>\n",
       "</div>"
      ],
      "text/plain": [
       "       country  year       combined_key         gdp\n",
       "0  Afghanistan  1990  Afghanistan, 1990  183.532775\n",
       "1  Afghanistan  1991  Afghanistan, 1991  183.532775\n",
       "2  Afghanistan  1992  Afghanistan, 1992  183.532775\n",
       "3  Afghanistan  1993  Afghanistan, 1993  183.532775\n",
       "4  Afghanistan  1994  Afghanistan, 1994  183.532775"
      ]
     },
     "execution_count": 16,
     "metadata": {},
     "output_type": "execute_result"
    }
   ],
   "source": [
    "#check output\n",
    "gdp.head()"
   ]
  },
  {
   "cell_type": "code",
   "execution_count": 17,
   "id": "f51510f0",
   "metadata": {},
   "outputs": [
    {
     "data": {
      "text/plain": [
       "(8646, 4)"
      ]
     },
     "execution_count": 17,
     "metadata": {},
     "output_type": "execute_result"
    }
   ],
   "source": [
    "gdp.shape"
   ]
  },
  {
   "cell_type": "code",
   "execution_count": 18,
   "id": "8262ae23",
   "metadata": {},
   "outputs": [],
   "source": [
    "#merge ea and nuc dataframes using combined key (outer)\n",
    "ea_nuc = pd.merge(ea,nuc, on ='combined_key', how = 'outer')"
   ]
  },
  {
   "cell_type": "code",
   "execution_count": 19,
   "id": "2912e937",
   "metadata": {},
   "outputs": [
    {
     "data": {
      "text/plain": [
       "(8494, 7)"
      ]
     },
     "execution_count": 19,
     "metadata": {},
     "output_type": "execute_result"
    }
   ],
   "source": [
    "ea_nuc.shape"
   ]
  },
  {
   "cell_type": "code",
   "execution_count": 20,
   "id": "64822ccb",
   "metadata": {},
   "outputs": [
    {
     "data": {
      "text/html": [
       "<div>\n",
       "<style scoped>\n",
       "    .dataframe tbody tr th:only-of-type {\n",
       "        vertical-align: middle;\n",
       "    }\n",
       "\n",
       "    .dataframe tbody tr th {\n",
       "        vertical-align: top;\n",
       "    }\n",
       "\n",
       "    .dataframe thead th {\n",
       "        text-align: right;\n",
       "    }\n",
       "</style>\n",
       "<table border=\"1\" class=\"dataframe\">\n",
       "  <thead>\n",
       "    <tr style=\"text-align: right;\">\n",
       "      <th></th>\n",
       "      <th>country_x</th>\n",
       "      <th>year_x</th>\n",
       "      <th>combined_key</th>\n",
       "      <th>ea_%_pop</th>\n",
       "      <th>country_y</th>\n",
       "      <th>year_y</th>\n",
       "      <th>%_energy_nuclear</th>\n",
       "    </tr>\n",
       "  </thead>\n",
       "  <tbody>\n",
       "    <tr>\n",
       "      <th>0</th>\n",
       "      <td>Afghanistan</td>\n",
       "      <td>2000.0</td>\n",
       "      <td>Afghanistan, 2000</td>\n",
       "      <td>4.446891</td>\n",
       "      <td>Afghanistan</td>\n",
       "      <td>2000.0</td>\n",
       "      <td>0.0</td>\n",
       "    </tr>\n",
       "    <tr>\n",
       "      <th>1</th>\n",
       "      <td>Afghanistan</td>\n",
       "      <td>2001.0</td>\n",
       "      <td>Afghanistan, 2001</td>\n",
       "      <td>9.294527</td>\n",
       "      <td>Afghanistan</td>\n",
       "      <td>2001.0</td>\n",
       "      <td>0.0</td>\n",
       "    </tr>\n",
       "    <tr>\n",
       "      <th>2</th>\n",
       "      <td>Afghanistan</td>\n",
       "      <td>2002.0</td>\n",
       "      <td>Afghanistan, 2002</td>\n",
       "      <td>14.133616</td>\n",
       "      <td>Afghanistan</td>\n",
       "      <td>2002.0</td>\n",
       "      <td>0.0</td>\n",
       "    </tr>\n",
       "    <tr>\n",
       "      <th>3</th>\n",
       "      <td>Afghanistan</td>\n",
       "      <td>2003.0</td>\n",
       "      <td>Afghanistan, 2003</td>\n",
       "      <td>18.971165</td>\n",
       "      <td>Afghanistan</td>\n",
       "      <td>2003.0</td>\n",
       "      <td>0.0</td>\n",
       "    </tr>\n",
       "    <tr>\n",
       "      <th>4</th>\n",
       "      <td>Afghanistan</td>\n",
       "      <td>2004.0</td>\n",
       "      <td>Afghanistan, 2004</td>\n",
       "      <td>23.814182</td>\n",
       "      <td>Afghanistan</td>\n",
       "      <td>2004.0</td>\n",
       "      <td>0.0</td>\n",
       "    </tr>\n",
       "  </tbody>\n",
       "</table>\n",
       "</div>"
      ],
      "text/plain": [
       "     country_x  year_x       combined_key   ea_%_pop    country_y  year_y  \\\n",
       "0  Afghanistan  2000.0  Afghanistan, 2000   4.446891  Afghanistan  2000.0   \n",
       "1  Afghanistan  2001.0  Afghanistan, 2001   9.294527  Afghanistan  2001.0   \n",
       "2  Afghanistan  2002.0  Afghanistan, 2002  14.133616  Afghanistan  2002.0   \n",
       "3  Afghanistan  2003.0  Afghanistan, 2003  18.971165  Afghanistan  2003.0   \n",
       "4  Afghanistan  2004.0  Afghanistan, 2004  23.814182  Afghanistan  2004.0   \n",
       "\n",
       "   %_energy_nuclear  \n",
       "0               0.0  \n",
       "1               0.0  \n",
       "2               0.0  \n",
       "3               0.0  \n",
       "4               0.0  "
      ]
     },
     "execution_count": 20,
     "metadata": {},
     "output_type": "execute_result"
    }
   ],
   "source": [
    "ea_nuc.head()"
   ]
  },
  {
   "cell_type": "code",
   "execution_count": 21,
   "id": "c2cb21b5",
   "metadata": {},
   "outputs": [],
   "source": [
    "#drop all country and year columns\n",
    "ea_nuc = ea_nuc.drop(columns = ['country_x' , 'year_x', 'country_y', 'year_y'])"
   ]
  },
  {
   "cell_type": "code",
   "execution_count": 22,
   "id": "2fa90260",
   "metadata": {},
   "outputs": [
    {
     "data": {
      "text/html": [
       "<div>\n",
       "<style scoped>\n",
       "    .dataframe tbody tr th:only-of-type {\n",
       "        vertical-align: middle;\n",
       "    }\n",
       "\n",
       "    .dataframe tbody tr th {\n",
       "        vertical-align: top;\n",
       "    }\n",
       "\n",
       "    .dataframe thead th {\n",
       "        text-align: right;\n",
       "    }\n",
       "</style>\n",
       "<table border=\"1\" class=\"dataframe\">\n",
       "  <thead>\n",
       "    <tr style=\"text-align: right;\">\n",
       "      <th></th>\n",
       "      <th>combined_key</th>\n",
       "      <th>ea_%_pop</th>\n",
       "      <th>%_energy_nuclear</th>\n",
       "    </tr>\n",
       "  </thead>\n",
       "  <tbody>\n",
       "    <tr>\n",
       "      <th>0</th>\n",
       "      <td>Afghanistan, 2000</td>\n",
       "      <td>4.446891</td>\n",
       "      <td>0.0</td>\n",
       "    </tr>\n",
       "    <tr>\n",
       "      <th>1</th>\n",
       "      <td>Afghanistan, 2001</td>\n",
       "      <td>9.294527</td>\n",
       "      <td>0.0</td>\n",
       "    </tr>\n",
       "    <tr>\n",
       "      <th>2</th>\n",
       "      <td>Afghanistan, 2002</td>\n",
       "      <td>14.133616</td>\n",
       "      <td>0.0</td>\n",
       "    </tr>\n",
       "    <tr>\n",
       "      <th>3</th>\n",
       "      <td>Afghanistan, 2003</td>\n",
       "      <td>18.971165</td>\n",
       "      <td>0.0</td>\n",
       "    </tr>\n",
       "    <tr>\n",
       "      <th>4</th>\n",
       "      <td>Afghanistan, 2004</td>\n",
       "      <td>23.814182</td>\n",
       "      <td>0.0</td>\n",
       "    </tr>\n",
       "  </tbody>\n",
       "</table>\n",
       "</div>"
      ],
      "text/plain": [
       "        combined_key   ea_%_pop  %_energy_nuclear\n",
       "0  Afghanistan, 2000   4.446891               0.0\n",
       "1  Afghanistan, 2001   9.294527               0.0\n",
       "2  Afghanistan, 2002  14.133616               0.0\n",
       "3  Afghanistan, 2003  18.971165               0.0\n",
       "4  Afghanistan, 2004  23.814182               0.0"
      ]
     },
     "execution_count": 22,
     "metadata": {},
     "output_type": "execute_result"
    }
   ],
   "source": [
    "ea_nuc.head()"
   ]
  },
  {
   "cell_type": "code",
   "execution_count": 23,
   "id": "d0eef8b8",
   "metadata": {},
   "outputs": [
    {
     "data": {
      "text/plain": [
       "(8494, 3)"
      ]
     },
     "execution_count": 23,
     "metadata": {},
     "output_type": "execute_result"
    }
   ],
   "source": [
    "ea_nuc.shape"
   ]
  },
  {
   "cell_type": "code",
   "execution_count": 24,
   "id": "ab2581c8",
   "metadata": {},
   "outputs": [],
   "source": [
    "#merge ea_nuc with renewables (outer)\n",
    "ea_nuc_renew = pd.merge(ea_nuc, renew, on = 'combined_key', how = 'outer')"
   ]
  },
  {
   "cell_type": "code",
   "execution_count": 25,
   "id": "3493ec4c",
   "metadata": {},
   "outputs": [
    {
     "data": {
      "text/plain": [
       "(8494, 6)"
      ]
     },
     "execution_count": 25,
     "metadata": {},
     "output_type": "execute_result"
    }
   ],
   "source": [
    "ea_nuc_renew.shape"
   ]
  },
  {
   "cell_type": "code",
   "execution_count": 26,
   "id": "2f822fc8",
   "metadata": {},
   "outputs": [
    {
     "data": {
      "text/html": [
       "<div>\n",
       "<style scoped>\n",
       "    .dataframe tbody tr th:only-of-type {\n",
       "        vertical-align: middle;\n",
       "    }\n",
       "\n",
       "    .dataframe tbody tr th {\n",
       "        vertical-align: top;\n",
       "    }\n",
       "\n",
       "    .dataframe thead th {\n",
       "        text-align: right;\n",
       "    }\n",
       "</style>\n",
       "<table border=\"1\" class=\"dataframe\">\n",
       "  <thead>\n",
       "    <tr style=\"text-align: right;\">\n",
       "      <th></th>\n",
       "      <th>combined_key</th>\n",
       "      <th>ea_%_pop</th>\n",
       "      <th>%_energy_nuclear</th>\n",
       "      <th>country</th>\n",
       "      <th>year</th>\n",
       "      <th>%_energy_renewables</th>\n",
       "    </tr>\n",
       "  </thead>\n",
       "  <tbody>\n",
       "    <tr>\n",
       "      <th>0</th>\n",
       "      <td>Afghanistan, 2000</td>\n",
       "      <td>4.446891</td>\n",
       "      <td>0.0</td>\n",
       "      <td>Afghanistan</td>\n",
       "      <td>2000.0</td>\n",
       "      <td>0.0</td>\n",
       "    </tr>\n",
       "    <tr>\n",
       "      <th>1</th>\n",
       "      <td>Afghanistan, 2001</td>\n",
       "      <td>9.294527</td>\n",
       "      <td>0.0</td>\n",
       "      <td>Afghanistan</td>\n",
       "      <td>2001.0</td>\n",
       "      <td>0.0</td>\n",
       "    </tr>\n",
       "    <tr>\n",
       "      <th>2</th>\n",
       "      <td>Afghanistan, 2002</td>\n",
       "      <td>14.133616</td>\n",
       "      <td>0.0</td>\n",
       "      <td>Afghanistan</td>\n",
       "      <td>2002.0</td>\n",
       "      <td>0.0</td>\n",
       "    </tr>\n",
       "    <tr>\n",
       "      <th>3</th>\n",
       "      <td>Afghanistan, 2003</td>\n",
       "      <td>18.971165</td>\n",
       "      <td>0.0</td>\n",
       "      <td>Afghanistan</td>\n",
       "      <td>2003.0</td>\n",
       "      <td>0.0</td>\n",
       "    </tr>\n",
       "    <tr>\n",
       "      <th>4</th>\n",
       "      <td>Afghanistan, 2004</td>\n",
       "      <td>23.814182</td>\n",
       "      <td>0.0</td>\n",
       "      <td>Afghanistan</td>\n",
       "      <td>2004.0</td>\n",
       "      <td>0.0</td>\n",
       "    </tr>\n",
       "  </tbody>\n",
       "</table>\n",
       "</div>"
      ],
      "text/plain": [
       "        combined_key   ea_%_pop  %_energy_nuclear      country    year  \\\n",
       "0  Afghanistan, 2000   4.446891               0.0  Afghanistan  2000.0   \n",
       "1  Afghanistan, 2001   9.294527               0.0  Afghanistan  2001.0   \n",
       "2  Afghanistan, 2002  14.133616               0.0  Afghanistan  2002.0   \n",
       "3  Afghanistan, 2003  18.971165               0.0  Afghanistan  2003.0   \n",
       "4  Afghanistan, 2004  23.814182               0.0  Afghanistan  2004.0   \n",
       "\n",
       "   %_energy_renewables  \n",
       "0                  0.0  \n",
       "1                  0.0  \n",
       "2                  0.0  \n",
       "3                  0.0  \n",
       "4                  0.0  "
      ]
     },
     "execution_count": 26,
     "metadata": {},
     "output_type": "execute_result"
    }
   ],
   "source": [
    "ea_nuc_renew.head()"
   ]
  },
  {
   "cell_type": "code",
   "execution_count": 27,
   "id": "548877a0",
   "metadata": {},
   "outputs": [],
   "source": [
    "ea_nuc_renew = ea_nuc_renew.drop(columns = ['country', 'year'])"
   ]
  },
  {
   "cell_type": "code",
   "execution_count": 28,
   "id": "84c5a9b9",
   "metadata": {},
   "outputs": [
    {
     "data": {
      "text/plain": [
       "(8494, 4)"
      ]
     },
     "execution_count": 28,
     "metadata": {},
     "output_type": "execute_result"
    }
   ],
   "source": [
    "ea_nuc_renew.shape"
   ]
  },
  {
   "cell_type": "code",
   "execution_count": 29,
   "id": "c905e85e",
   "metadata": {},
   "outputs": [],
   "source": [
    "#merge ea_nuc_renew with ogc (outer)\n",
    "ea_nuc_renew_ogc =pd.merge(ea_nuc_renew, ogc, on = 'combined_key', how = 'outer')"
   ]
  },
  {
   "cell_type": "code",
   "execution_count": 30,
   "id": "82991bb3",
   "metadata": {},
   "outputs": [
    {
     "data": {
      "text/plain": [
       "(8494, 7)"
      ]
     },
     "execution_count": 30,
     "metadata": {},
     "output_type": "execute_result"
    }
   ],
   "source": [
    "ea_nuc_renew_ogc.shape"
   ]
  },
  {
   "cell_type": "code",
   "execution_count": 31,
   "id": "5aaf2a85",
   "metadata": {},
   "outputs": [
    {
     "data": {
      "text/html": [
       "<div>\n",
       "<style scoped>\n",
       "    .dataframe tbody tr th:only-of-type {\n",
       "        vertical-align: middle;\n",
       "    }\n",
       "\n",
       "    .dataframe tbody tr th {\n",
       "        vertical-align: top;\n",
       "    }\n",
       "\n",
       "    .dataframe thead th {\n",
       "        text-align: right;\n",
       "    }\n",
       "</style>\n",
       "<table border=\"1\" class=\"dataframe\">\n",
       "  <thead>\n",
       "    <tr style=\"text-align: right;\">\n",
       "      <th></th>\n",
       "      <th>combined_key</th>\n",
       "      <th>ea_%_pop</th>\n",
       "      <th>%_energy_nuclear</th>\n",
       "      <th>%_energy_renewables</th>\n",
       "      <th>country</th>\n",
       "      <th>year</th>\n",
       "      <th>%_energy_fossil_fuels</th>\n",
       "    </tr>\n",
       "  </thead>\n",
       "  <tbody>\n",
       "    <tr>\n",
       "      <th>0</th>\n",
       "      <td>Afghanistan, 2000</td>\n",
       "      <td>4.446891</td>\n",
       "      <td>0.0</td>\n",
       "      <td>0.0</td>\n",
       "      <td>Afghanistan</td>\n",
       "      <td>2000.0</td>\n",
       "      <td>0.0</td>\n",
       "    </tr>\n",
       "    <tr>\n",
       "      <th>1</th>\n",
       "      <td>Afghanistan, 2001</td>\n",
       "      <td>9.294527</td>\n",
       "      <td>0.0</td>\n",
       "      <td>0.0</td>\n",
       "      <td>Afghanistan</td>\n",
       "      <td>2001.0</td>\n",
       "      <td>0.0</td>\n",
       "    </tr>\n",
       "    <tr>\n",
       "      <th>2</th>\n",
       "      <td>Afghanistan, 2002</td>\n",
       "      <td>14.133616</td>\n",
       "      <td>0.0</td>\n",
       "      <td>0.0</td>\n",
       "      <td>Afghanistan</td>\n",
       "      <td>2002.0</td>\n",
       "      <td>0.0</td>\n",
       "    </tr>\n",
       "    <tr>\n",
       "      <th>3</th>\n",
       "      <td>Afghanistan, 2003</td>\n",
       "      <td>18.971165</td>\n",
       "      <td>0.0</td>\n",
       "      <td>0.0</td>\n",
       "      <td>Afghanistan</td>\n",
       "      <td>2003.0</td>\n",
       "      <td>0.0</td>\n",
       "    </tr>\n",
       "    <tr>\n",
       "      <th>4</th>\n",
       "      <td>Afghanistan, 2004</td>\n",
       "      <td>23.814182</td>\n",
       "      <td>0.0</td>\n",
       "      <td>0.0</td>\n",
       "      <td>Afghanistan</td>\n",
       "      <td>2004.0</td>\n",
       "      <td>0.0</td>\n",
       "    </tr>\n",
       "  </tbody>\n",
       "</table>\n",
       "</div>"
      ],
      "text/plain": [
       "        combined_key   ea_%_pop  %_energy_nuclear  %_energy_renewables  \\\n",
       "0  Afghanistan, 2000   4.446891               0.0                  0.0   \n",
       "1  Afghanistan, 2001   9.294527               0.0                  0.0   \n",
       "2  Afghanistan, 2002  14.133616               0.0                  0.0   \n",
       "3  Afghanistan, 2003  18.971165               0.0                  0.0   \n",
       "4  Afghanistan, 2004  23.814182               0.0                  0.0   \n",
       "\n",
       "       country    year  %_energy_fossil_fuels  \n",
       "0  Afghanistan  2000.0                    0.0  \n",
       "1  Afghanistan  2001.0                    0.0  \n",
       "2  Afghanistan  2002.0                    0.0  \n",
       "3  Afghanistan  2003.0                    0.0  \n",
       "4  Afghanistan  2004.0                    0.0  "
      ]
     },
     "execution_count": 31,
     "metadata": {},
     "output_type": "execute_result"
    }
   ],
   "source": [
    "ea_nuc_renew_ogc.head()"
   ]
  },
  {
   "cell_type": "code",
   "execution_count": 32,
   "id": "4cc39cec",
   "metadata": {},
   "outputs": [],
   "source": [
    "ea_nuc_renew_ogc = ea_nuc_renew_ogc.drop(columns = ['country', 'year'])"
   ]
  },
  {
   "cell_type": "code",
   "execution_count": 33,
   "id": "c7978a35",
   "metadata": {},
   "outputs": [
    {
     "data": {
      "text/html": [
       "<div>\n",
       "<style scoped>\n",
       "    .dataframe tbody tr th:only-of-type {\n",
       "        vertical-align: middle;\n",
       "    }\n",
       "\n",
       "    .dataframe tbody tr th {\n",
       "        vertical-align: top;\n",
       "    }\n",
       "\n",
       "    .dataframe thead th {\n",
       "        text-align: right;\n",
       "    }\n",
       "</style>\n",
       "<table border=\"1\" class=\"dataframe\">\n",
       "  <thead>\n",
       "    <tr style=\"text-align: right;\">\n",
       "      <th></th>\n",
       "      <th>combined_key</th>\n",
       "      <th>ea_%_pop</th>\n",
       "      <th>%_energy_nuclear</th>\n",
       "      <th>%_energy_renewables</th>\n",
       "      <th>%_energy_fossil_fuels</th>\n",
       "    </tr>\n",
       "  </thead>\n",
       "  <tbody>\n",
       "    <tr>\n",
       "      <th>0</th>\n",
       "      <td>Afghanistan, 2000</td>\n",
       "      <td>4.446891</td>\n",
       "      <td>0.0</td>\n",
       "      <td>0.0</td>\n",
       "      <td>0.0</td>\n",
       "    </tr>\n",
       "    <tr>\n",
       "      <th>1</th>\n",
       "      <td>Afghanistan, 2001</td>\n",
       "      <td>9.294527</td>\n",
       "      <td>0.0</td>\n",
       "      <td>0.0</td>\n",
       "      <td>0.0</td>\n",
       "    </tr>\n",
       "    <tr>\n",
       "      <th>2</th>\n",
       "      <td>Afghanistan, 2002</td>\n",
       "      <td>14.133616</td>\n",
       "      <td>0.0</td>\n",
       "      <td>0.0</td>\n",
       "      <td>0.0</td>\n",
       "    </tr>\n",
       "    <tr>\n",
       "      <th>3</th>\n",
       "      <td>Afghanistan, 2003</td>\n",
       "      <td>18.971165</td>\n",
       "      <td>0.0</td>\n",
       "      <td>0.0</td>\n",
       "      <td>0.0</td>\n",
       "    </tr>\n",
       "    <tr>\n",
       "      <th>4</th>\n",
       "      <td>Afghanistan, 2004</td>\n",
       "      <td>23.814182</td>\n",
       "      <td>0.0</td>\n",
       "      <td>0.0</td>\n",
       "      <td>0.0</td>\n",
       "    </tr>\n",
       "  </tbody>\n",
       "</table>\n",
       "</div>"
      ],
      "text/plain": [
       "        combined_key   ea_%_pop  %_energy_nuclear  %_energy_renewables  \\\n",
       "0  Afghanistan, 2000   4.446891               0.0                  0.0   \n",
       "1  Afghanistan, 2001   9.294527               0.0                  0.0   \n",
       "2  Afghanistan, 2002  14.133616               0.0                  0.0   \n",
       "3  Afghanistan, 2003  18.971165               0.0                  0.0   \n",
       "4  Afghanistan, 2004  23.814182               0.0                  0.0   \n",
       "\n",
       "   %_energy_fossil_fuels  \n",
       "0                    0.0  \n",
       "1                    0.0  \n",
       "2                    0.0  \n",
       "3                    0.0  \n",
       "4                    0.0  "
      ]
     },
     "execution_count": 33,
     "metadata": {},
     "output_type": "execute_result"
    }
   ],
   "source": [
    "ea_nuc_renew_ogc.head()"
   ]
  },
  {
   "cell_type": "code",
   "execution_count": 34,
   "id": "9b9d92af",
   "metadata": {},
   "outputs": [],
   "source": [
    "#merge ea_nuc_renew_ogc with gdp data (inner)\n",
    "energy_gdp_merged = pd.merge(ea_nuc_renew_ogc, gdp, on = 'combined_key', how = 'outer')"
   ]
  },
  {
   "cell_type": "code",
   "execution_count": 35,
   "id": "d6cb3b03",
   "metadata": {},
   "outputs": [
    {
     "data": {
      "text/plain": [
       "(8768, 8)"
      ]
     },
     "execution_count": 35,
     "metadata": {},
     "output_type": "execute_result"
    }
   ],
   "source": [
    "energy_gdp_merged.shape"
   ]
  },
  {
   "cell_type": "code",
   "execution_count": 36,
   "id": "bd670131",
   "metadata": {},
   "outputs": [
    {
     "data": {
      "text/html": [
       "<div>\n",
       "<style scoped>\n",
       "    .dataframe tbody tr th:only-of-type {\n",
       "        vertical-align: middle;\n",
       "    }\n",
       "\n",
       "    .dataframe tbody tr th {\n",
       "        vertical-align: top;\n",
       "    }\n",
       "\n",
       "    .dataframe thead th {\n",
       "        text-align: right;\n",
       "    }\n",
       "</style>\n",
       "<table border=\"1\" class=\"dataframe\">\n",
       "  <thead>\n",
       "    <tr style=\"text-align: right;\">\n",
       "      <th></th>\n",
       "      <th>combined_key</th>\n",
       "      <th>ea_%_pop</th>\n",
       "      <th>%_energy_nuclear</th>\n",
       "      <th>%_energy_renewables</th>\n",
       "      <th>%_energy_fossil_fuels</th>\n",
       "      <th>country</th>\n",
       "      <th>year</th>\n",
       "      <th>gdp</th>\n",
       "    </tr>\n",
       "  </thead>\n",
       "  <tbody>\n",
       "    <tr>\n",
       "      <th>0</th>\n",
       "      <td>Afghanistan, 2000</td>\n",
       "      <td>4.446891</td>\n",
       "      <td>0.0</td>\n",
       "      <td>0.0</td>\n",
       "      <td>0.0</td>\n",
       "      <td>Afghanistan</td>\n",
       "      <td>2000.0</td>\n",
       "      <td>183.532775</td>\n",
       "    </tr>\n",
       "    <tr>\n",
       "      <th>1</th>\n",
       "      <td>Afghanistan, 2001</td>\n",
       "      <td>9.294527</td>\n",
       "      <td>0.0</td>\n",
       "      <td>0.0</td>\n",
       "      <td>0.0</td>\n",
       "      <td>Afghanistan</td>\n",
       "      <td>2001.0</td>\n",
       "      <td>183.532775</td>\n",
       "    </tr>\n",
       "    <tr>\n",
       "      <th>2</th>\n",
       "      <td>Afghanistan, 2002</td>\n",
       "      <td>14.133616</td>\n",
       "      <td>0.0</td>\n",
       "      <td>0.0</td>\n",
       "      <td>0.0</td>\n",
       "      <td>Afghanistan</td>\n",
       "      <td>2002.0</td>\n",
       "      <td>183.532775</td>\n",
       "    </tr>\n",
       "    <tr>\n",
       "      <th>3</th>\n",
       "      <td>Afghanistan, 2003</td>\n",
       "      <td>18.971165</td>\n",
       "      <td>0.0</td>\n",
       "      <td>0.0</td>\n",
       "      <td>0.0</td>\n",
       "      <td>Afghanistan</td>\n",
       "      <td>2003.0</td>\n",
       "      <td>200.462376</td>\n",
       "    </tr>\n",
       "    <tr>\n",
       "      <th>4</th>\n",
       "      <td>Afghanistan, 2004</td>\n",
       "      <td>23.814182</td>\n",
       "      <td>0.0</td>\n",
       "      <td>0.0</td>\n",
       "      <td>0.0</td>\n",
       "      <td>Afghanistan</td>\n",
       "      <td>2004.0</td>\n",
       "      <td>221.657662</td>\n",
       "    </tr>\n",
       "  </tbody>\n",
       "</table>\n",
       "</div>"
      ],
      "text/plain": [
       "        combined_key   ea_%_pop  %_energy_nuclear  %_energy_renewables  \\\n",
       "0  Afghanistan, 2000   4.446891               0.0                  0.0   \n",
       "1  Afghanistan, 2001   9.294527               0.0                  0.0   \n",
       "2  Afghanistan, 2002  14.133616               0.0                  0.0   \n",
       "3  Afghanistan, 2003  18.971165               0.0                  0.0   \n",
       "4  Afghanistan, 2004  23.814182               0.0                  0.0   \n",
       "\n",
       "   %_energy_fossil_fuels      country    year         gdp  \n",
       "0                    0.0  Afghanistan  2000.0  183.532775  \n",
       "1                    0.0  Afghanistan  2001.0  183.532775  \n",
       "2                    0.0  Afghanistan  2002.0  183.532775  \n",
       "3                    0.0  Afghanistan  2003.0  200.462376  \n",
       "4                    0.0  Afghanistan  2004.0  221.657662  "
      ]
     },
     "execution_count": 36,
     "metadata": {},
     "output_type": "execute_result"
    }
   ],
   "source": [
    "energy_gdp_merged.head()"
   ]
  },
  {
   "cell_type": "code",
   "execution_count": 37,
   "id": "a5680d0c",
   "metadata": {},
   "outputs": [],
   "source": [
    "column_order = ['country', 'year', 'combined_key', 'ea_%_pop', '%_energy_nuclear', '%_energy_renewables', '%_energy_fossil_fuels', 'gdp']"
   ]
  },
  {
   "cell_type": "code",
   "execution_count": 38,
   "id": "9ef63c61",
   "metadata": {},
   "outputs": [],
   "source": [
    "merged = energy_gdp_merged[column_order]"
   ]
  },
  {
   "cell_type": "code",
   "execution_count": 39,
   "id": "3e02e68f",
   "metadata": {},
   "outputs": [
    {
     "data": {
      "text/html": [
       "<div>\n",
       "<style scoped>\n",
       "    .dataframe tbody tr th:only-of-type {\n",
       "        vertical-align: middle;\n",
       "    }\n",
       "\n",
       "    .dataframe tbody tr th {\n",
       "        vertical-align: top;\n",
       "    }\n",
       "\n",
       "    .dataframe thead th {\n",
       "        text-align: right;\n",
       "    }\n",
       "</style>\n",
       "<table border=\"1\" class=\"dataframe\">\n",
       "  <thead>\n",
       "    <tr style=\"text-align: right;\">\n",
       "      <th></th>\n",
       "      <th>country</th>\n",
       "      <th>year</th>\n",
       "      <th>combined_key</th>\n",
       "      <th>ea_%_pop</th>\n",
       "      <th>%_energy_nuclear</th>\n",
       "      <th>%_energy_renewables</th>\n",
       "      <th>%_energy_fossil_fuels</th>\n",
       "      <th>gdp</th>\n",
       "    </tr>\n",
       "  </thead>\n",
       "  <tbody>\n",
       "    <tr>\n",
       "      <th>0</th>\n",
       "      <td>Afghanistan</td>\n",
       "      <td>2000.0</td>\n",
       "      <td>Afghanistan, 2000</td>\n",
       "      <td>4.446891</td>\n",
       "      <td>0.0</td>\n",
       "      <td>0.0</td>\n",
       "      <td>0.0</td>\n",
       "      <td>183.532775</td>\n",
       "    </tr>\n",
       "    <tr>\n",
       "      <th>1</th>\n",
       "      <td>Afghanistan</td>\n",
       "      <td>2001.0</td>\n",
       "      <td>Afghanistan, 2001</td>\n",
       "      <td>9.294527</td>\n",
       "      <td>0.0</td>\n",
       "      <td>0.0</td>\n",
       "      <td>0.0</td>\n",
       "      <td>183.532775</td>\n",
       "    </tr>\n",
       "    <tr>\n",
       "      <th>2</th>\n",
       "      <td>Afghanistan</td>\n",
       "      <td>2002.0</td>\n",
       "      <td>Afghanistan, 2002</td>\n",
       "      <td>14.133616</td>\n",
       "      <td>0.0</td>\n",
       "      <td>0.0</td>\n",
       "      <td>0.0</td>\n",
       "      <td>183.532775</td>\n",
       "    </tr>\n",
       "    <tr>\n",
       "      <th>3</th>\n",
       "      <td>Afghanistan</td>\n",
       "      <td>2003.0</td>\n",
       "      <td>Afghanistan, 2003</td>\n",
       "      <td>18.971165</td>\n",
       "      <td>0.0</td>\n",
       "      <td>0.0</td>\n",
       "      <td>0.0</td>\n",
       "      <td>200.462376</td>\n",
       "    </tr>\n",
       "    <tr>\n",
       "      <th>4</th>\n",
       "      <td>Afghanistan</td>\n",
       "      <td>2004.0</td>\n",
       "      <td>Afghanistan, 2004</td>\n",
       "      <td>23.814182</td>\n",
       "      <td>0.0</td>\n",
       "      <td>0.0</td>\n",
       "      <td>0.0</td>\n",
       "      <td>221.657662</td>\n",
       "    </tr>\n",
       "  </tbody>\n",
       "</table>\n",
       "</div>"
      ],
      "text/plain": [
       "       country    year       combined_key   ea_%_pop  %_energy_nuclear  \\\n",
       "0  Afghanistan  2000.0  Afghanistan, 2000   4.446891               0.0   \n",
       "1  Afghanistan  2001.0  Afghanistan, 2001   9.294527               0.0   \n",
       "2  Afghanistan  2002.0  Afghanistan, 2002  14.133616               0.0   \n",
       "3  Afghanistan  2003.0  Afghanistan, 2003  18.971165               0.0   \n",
       "4  Afghanistan  2004.0  Afghanistan, 2004  23.814182               0.0   \n",
       "\n",
       "   %_energy_renewables  %_energy_fossil_fuels         gdp  \n",
       "0                  0.0                    0.0  183.532775  \n",
       "1                  0.0                    0.0  183.532775  \n",
       "2                  0.0                    0.0  183.532775  \n",
       "3                  0.0                    0.0  200.462376  \n",
       "4                  0.0                    0.0  221.657662  "
      ]
     },
     "execution_count": 39,
     "metadata": {},
     "output_type": "execute_result"
    }
   ],
   "source": [
    "merged.head()"
   ]
  },
  {
   "cell_type": "code",
   "execution_count": 40,
   "id": "aac97461",
   "metadata": {},
   "outputs": [
    {
     "data": {
      "text/plain": [
       "(8768, 8)"
      ]
     },
     "execution_count": 40,
     "metadata": {},
     "output_type": "execute_result"
    }
   ],
   "source": [
    "merged.shape"
   ]
  },
  {
   "cell_type": "code",
   "execution_count": 41,
   "id": "7cc8a9b6",
   "metadata": {},
   "outputs": [
    {
     "data": {
      "text/html": [
       "<div>\n",
       "<style scoped>\n",
       "    .dataframe tbody tr th:only-of-type {\n",
       "        vertical-align: middle;\n",
       "    }\n",
       "\n",
       "    .dataframe tbody tr th {\n",
       "        vertical-align: top;\n",
       "    }\n",
       "\n",
       "    .dataframe thead th {\n",
       "        text-align: right;\n",
       "    }\n",
       "</style>\n",
       "<table border=\"1\" class=\"dataframe\">\n",
       "  <thead>\n",
       "    <tr style=\"text-align: right;\">\n",
       "      <th></th>\n",
       "      <th>year</th>\n",
       "      <th>ea_%_pop</th>\n",
       "      <th>%_energy_nuclear</th>\n",
       "      <th>%_energy_renewables</th>\n",
       "      <th>%_energy_fossil_fuels</th>\n",
       "      <th>gdp</th>\n",
       "    </tr>\n",
       "  </thead>\n",
       "  <tbody>\n",
       "    <tr>\n",
       "      <th>count</th>\n",
       "      <td>8646.000000</td>\n",
       "      <td>7348.000000</td>\n",
       "      <td>6916.000000</td>\n",
       "      <td>6916.000000</td>\n",
       "      <td>6916.000000</td>\n",
       "      <td>8646.000000</td>\n",
       "    </tr>\n",
       "    <tr>\n",
       "      <th>mean</th>\n",
       "      <td>2006.000000</td>\n",
       "      <td>80.758292</td>\n",
       "      <td>4.171182</td>\n",
       "      <td>1.710929</td>\n",
       "      <td>42.292349</td>\n",
       "      <td>12366.147415</td>\n",
       "    </tr>\n",
       "    <tr>\n",
       "      <th>std</th>\n",
       "      <td>9.522455</td>\n",
       "      <td>28.745094</td>\n",
       "      <td>11.571857</td>\n",
       "      <td>4.631711</td>\n",
       "      <td>37.897291</td>\n",
       "      <td>20484.287913</td>\n",
       "    </tr>\n",
       "    <tr>\n",
       "      <th>min</th>\n",
       "      <td>1990.000000</td>\n",
       "      <td>0.533899</td>\n",
       "      <td>0.000000</td>\n",
       "      <td>0.000000</td>\n",
       "      <td>0.000000</td>\n",
       "      <td>22.850371</td>\n",
       "    </tr>\n",
       "    <tr>\n",
       "      <th>25%</th>\n",
       "      <td>1998.000000</td>\n",
       "      <td>68.435427</td>\n",
       "      <td>0.000000</td>\n",
       "      <td>0.000000</td>\n",
       "      <td>0.000000</td>\n",
       "      <td>1153.772085</td>\n",
       "    </tr>\n",
       "    <tr>\n",
       "      <th>50%</th>\n",
       "      <td>2006.000000</td>\n",
       "      <td>98.290939</td>\n",
       "      <td>0.000000</td>\n",
       "      <td>0.000000</td>\n",
       "      <td>41.938147</td>\n",
       "      <td>3852.266878</td>\n",
       "    </tr>\n",
       "    <tr>\n",
       "      <th>75%</th>\n",
       "      <td>2014.000000</td>\n",
       "      <td>100.000000</td>\n",
       "      <td>0.000000</td>\n",
       "      <td>1.053341</td>\n",
       "      <td>76.383645</td>\n",
       "      <td>15457.114572</td>\n",
       "    </tr>\n",
       "    <tr>\n",
       "      <th>max</th>\n",
       "      <td>2022.000000</td>\n",
       "      <td>100.000000</td>\n",
       "      <td>87.986221</td>\n",
       "      <td>65.443742</td>\n",
       "      <td>100.000000</td>\n",
       "      <td>234317.084800</td>\n",
       "    </tr>\n",
       "  </tbody>\n",
       "</table>\n",
       "</div>"
      ],
      "text/plain": [
       "              year     ea_%_pop  %_energy_nuclear  %_energy_renewables  \\\n",
       "count  8646.000000  7348.000000       6916.000000          6916.000000   \n",
       "mean   2006.000000    80.758292          4.171182             1.710929   \n",
       "std       9.522455    28.745094         11.571857             4.631711   \n",
       "min    1990.000000     0.533899          0.000000             0.000000   \n",
       "25%    1998.000000    68.435427          0.000000             0.000000   \n",
       "50%    2006.000000    98.290939          0.000000             0.000000   \n",
       "75%    2014.000000   100.000000          0.000000             1.053341   \n",
       "max    2022.000000   100.000000         87.986221            65.443742   \n",
       "\n",
       "       %_energy_fossil_fuels            gdp  \n",
       "count            6916.000000    8646.000000  \n",
       "mean               42.292349   12366.147415  \n",
       "std                37.897291   20484.287913  \n",
       "min                 0.000000      22.850371  \n",
       "25%                 0.000000    1153.772085  \n",
       "50%                41.938147    3852.266878  \n",
       "75%                76.383645   15457.114572  \n",
       "max               100.000000  234317.084800  "
      ]
     },
     "execution_count": 41,
     "metadata": {},
     "output_type": "execute_result"
    }
   ],
   "source": [
    "merged.describe()"
   ]
  },
  {
   "cell_type": "code",
   "execution_count": 42,
   "id": "602c3e9a",
   "metadata": {},
   "outputs": [],
   "source": [
    "#export merged outer data\n",
    "merged.to_csv(os.path.join(path,'02 data', 'prepared data', 'energy_gdp_merged_outer.csv'), index=False)"
   ]
  },
  {
   "cell_type": "code",
   "execution_count": null,
   "id": "25603e2d",
   "metadata": {},
   "outputs": [],
   "source": []
  }
 ],
 "metadata": {
  "kernelspec": {
   "display_name": "Python 3 (ipykernel)",
   "language": "python",
   "name": "python3"
  },
  "language_info": {
   "codemirror_mode": {
    "name": "ipython",
    "version": 3
   },
   "file_extension": ".py",
   "mimetype": "text/x-python",
   "name": "python",
   "nbconvert_exporter": "python",
   "pygments_lexer": "ipython3",
   "version": "3.11.5"
  }
 },
 "nbformat": 4,
 "nbformat_minor": 5
}
