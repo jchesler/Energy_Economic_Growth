{
 "cells": [
  {
   "cell_type": "code",
   "execution_count": 2,
   "id": "ef49c6e6",
   "metadata": {},
   "outputs": [],
   "source": [
    "#import libraries\n",
    "import pandas as pd\n",
    "import numpy as np\n",
    "import seaborn as sns\n",
    "import matplotlib\n",
    "import os\n",
    "import folium\n",
    "import json"
   ]
  },
  {
   "cell_type": "code",
   "execution_count": 3,
   "id": "94aead51",
   "metadata": {},
   "outputs": [],
   "source": [
    "#import json file\n",
    "world_geo = r\"C:\\Users\\jacob\\Downloads\\countries (2).geojson\"\n",
    "# Specify the encoding (e.g., 'utf-8')\n",
    "geojson_data = json.load(open(world_geo, encoding='utf-8'))"
   ]
  },
  {
   "cell_type": "code",
   "execution_count": 4,
   "id": "96cf0992",
   "metadata": {},
   "outputs": [],
   "source": [
    "#create path to project file\n",
    "path = r\"C:\\Users\\jacob\\Documents\\Data Analytics\\Data Immersion\\Achievement 6\\Energy_GDP_Project\""
   ]
  },
  {
   "cell_type": "code",
   "execution_count": 5,
   "id": "e7971b67",
   "metadata": {},
   "outputs": [],
   "source": [
    "#import merged energy and gdp data\n",
    "df = pd.read_csv(os.path.join(path, '02 data', 'prepared data', 'energy_gdp_merged_inner_countries.csv'))"
   ]
  },
  {
   "cell_type": "code",
   "execution_count": 6,
   "id": "4005b287",
   "metadata": {},
   "outputs": [],
   "source": [
    "df.drop(columns = ['combined_key'], inplace = True)"
   ]
  },
  {
   "cell_type": "code",
   "execution_count": 7,
   "id": "5f1973dc",
   "metadata": {},
   "outputs": [],
   "source": [
    "df.rename(columns = {'gdp' : 'gdp_per_capita'}, inplace = True)"
   ]
  },
  {
   "cell_type": "code",
   "execution_count": 8,
   "id": "9e24f7b4",
   "metadata": {},
   "outputs": [
    {
     "data": {
      "text/html": [
       "<div>\n",
       "<style scoped>\n",
       "    .dataframe tbody tr th:only-of-type {\n",
       "        vertical-align: middle;\n",
       "    }\n",
       "\n",
       "    .dataframe tbody tr th {\n",
       "        vertical-align: top;\n",
       "    }\n",
       "\n",
       "    .dataframe thead th {\n",
       "        text-align: right;\n",
       "    }\n",
       "</style>\n",
       "<table border=\"1\" class=\"dataframe\">\n",
       "  <thead>\n",
       "    <tr style=\"text-align: right;\">\n",
       "      <th></th>\n",
       "      <th>country</th>\n",
       "      <th>year</th>\n",
       "      <th>ea_%_pop</th>\n",
       "      <th>%_energy_nuclear</th>\n",
       "      <th>%_energy_renewables</th>\n",
       "      <th>%_energy_fossil_fuels</th>\n",
       "      <th>gdp_per_capita</th>\n",
       "    </tr>\n",
       "  </thead>\n",
       "  <tbody>\n",
       "    <tr>\n",
       "      <th>0</th>\n",
       "      <td>Afghanistan</td>\n",
       "      <td>2000</td>\n",
       "      <td>4.446891</td>\n",
       "      <td>0.0</td>\n",
       "      <td>0.0</td>\n",
       "      <td>0.0</td>\n",
       "      <td>183.532775</td>\n",
       "    </tr>\n",
       "    <tr>\n",
       "      <th>1</th>\n",
       "      <td>Afghanistan</td>\n",
       "      <td>2001</td>\n",
       "      <td>9.294527</td>\n",
       "      <td>0.0</td>\n",
       "      <td>0.0</td>\n",
       "      <td>0.0</td>\n",
       "      <td>183.532775</td>\n",
       "    </tr>\n",
       "    <tr>\n",
       "      <th>2</th>\n",
       "      <td>Afghanistan</td>\n",
       "      <td>2002</td>\n",
       "      <td>14.133616</td>\n",
       "      <td>0.0</td>\n",
       "      <td>0.0</td>\n",
       "      <td>0.0</td>\n",
       "      <td>183.532775</td>\n",
       "    </tr>\n",
       "    <tr>\n",
       "      <th>3</th>\n",
       "      <td>Afghanistan</td>\n",
       "      <td>2003</td>\n",
       "      <td>18.971165</td>\n",
       "      <td>0.0</td>\n",
       "      <td>0.0</td>\n",
       "      <td>0.0</td>\n",
       "      <td>200.462376</td>\n",
       "    </tr>\n",
       "    <tr>\n",
       "      <th>4</th>\n",
       "      <td>Afghanistan</td>\n",
       "      <td>2004</td>\n",
       "      <td>23.814182</td>\n",
       "      <td>0.0</td>\n",
       "      <td>0.0</td>\n",
       "      <td>0.0</td>\n",
       "      <td>221.657662</td>\n",
       "    </tr>\n",
       "  </tbody>\n",
       "</table>\n",
       "</div>"
      ],
      "text/plain": [
       "       country  year   ea_%_pop  %_energy_nuclear  %_energy_renewables  \\\n",
       "0  Afghanistan  2000   4.446891               0.0                  0.0   \n",
       "1  Afghanistan  2001   9.294527               0.0                  0.0   \n",
       "2  Afghanistan  2002  14.133616               0.0                  0.0   \n",
       "3  Afghanistan  2003  18.971165               0.0                  0.0   \n",
       "4  Afghanistan  2004  23.814182               0.0                  0.0   \n",
       "\n",
       "   %_energy_fossil_fuels  gdp_per_capita  \n",
       "0                    0.0      183.532775  \n",
       "1                    0.0      183.532775  \n",
       "2                    0.0      183.532775  \n",
       "3                    0.0      200.462376  \n",
       "4                    0.0      221.657662  "
      ]
     },
     "execution_count": 8,
     "metadata": {},
     "output_type": "execute_result"
    }
   ],
   "source": [
    "df.head()"
   ]
  },
  {
   "cell_type": "code",
   "execution_count": 9,
   "id": "abed54d7",
   "metadata": {},
   "outputs": [
    {
     "ename": "NameError",
     "evalue": "name 'find_matching_name' is not defined",
     "output_type": "error",
     "traceback": [
      "\u001b[1;31m---------------------------------------------------------------------------\u001b[0m",
      "\u001b[1;31mNameError\u001b[0m                                 Traceback (most recent call last)",
      "Cell \u001b[1;32mIn[9], line 13\u001b[0m\n\u001b[0;32m     11\u001b[0m mismatched_names\u001b[38;5;241m.\u001b[39mappend(geojson_name)\n\u001b[0;32m     12\u001b[0m \u001b[38;5;66;03m# Find the corresponding name in your DataFrame (you can customize this based on your data)\u001b[39;00m\n\u001b[1;32m---> 13\u001b[0m matching_name \u001b[38;5;241m=\u001b[39m find_matching_name(geojson_name, country_column)\n\u001b[0;32m     14\u001b[0m \u001b[38;5;66;03m# Update the GeoJSON feature with the corrected name\u001b[39;00m\n\u001b[0;32m     15\u001b[0m feature[\u001b[38;5;124m'\u001b[39m\u001b[38;5;124mproperties\u001b[39m\u001b[38;5;124m'\u001b[39m][\u001b[38;5;124m'\u001b[39m\u001b[38;5;124mADMIN\u001b[39m\u001b[38;5;124m'\u001b[39m] \u001b[38;5;241m=\u001b[39m matching_name\n",
      "\u001b[1;31mNameError\u001b[0m: name 'find_matching_name' is not defined"
     ]
    }
   ],
   "source": [
    "# Assuming 'country' is the column in your DataFrame containing country names\n",
    "country_column = df['country']\n",
    "\n",
    "# List to store mismatched names\n",
    "mismatched_names = []\n",
    "\n",
    "# Iterate through GeoJSON features\n",
    "for feature in geojson_data['features']:\n",
    "    geojson_name = feature['properties']['ADMIN']  # Adjust the key as per your GeoJSON structure\n",
    "    if geojson_name not in country_column.values:\n",
    "        mismatched_names.append(geojson_name)\n",
    "        # Find the corresponding name in your DataFrame (you can customize this based on your data)\n",
    "        matching_name = find_matching_name(geojson_name, country_column)\n",
    "        # Update the GeoJSON feature with the corrected name\n",
    "        feature['properties']['ADMIN'] = matching_name\n",
    "\n",
    "# Save the corrected GeoJSON data to a new file\n",
    "with open('corrected_geojson_file.geojson', 'w') as outfile:\n",
    "    json.dump(geojson_data, outfile)"
   ]
  },
  {
   "cell_type": "code",
   "execution_count": null,
   "id": "9736be3f",
   "metadata": {},
   "outputs": [],
   "source": []
  }
 ],
 "metadata": {
  "kernelspec": {
   "display_name": "Python 3 (ipykernel)",
   "language": "python",
   "name": "python3"
  },
  "language_info": {
   "codemirror_mode": {
    "name": "ipython",
    "version": 3
   },
   "file_extension": ".py",
   "mimetype": "text/x-python",
   "name": "python",
   "nbconvert_exporter": "python",
   "pygments_lexer": "ipython3",
   "version": "3.11.5"
  }
 },
 "nbformat": 4,
 "nbformat_minor": 5
}
