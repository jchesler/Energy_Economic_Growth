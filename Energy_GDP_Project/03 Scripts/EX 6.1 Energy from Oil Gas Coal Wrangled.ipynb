{
 "cells": [
  {
   "cell_type": "code",
   "execution_count": 1,
   "id": "bf3f129e",
   "metadata": {},
   "outputs": [],
   "source": [
    "#import libraries\n",
    "import pandas as pd\n",
    "import numpy as np\n",
    "import os"
   ]
  },
  {
   "cell_type": "code",
   "execution_count": 2,
   "id": "6861fcd8",
   "metadata": {},
   "outputs": [],
   "source": [
    "#create path\n",
    "path = r'C:\\Users\\jacob\\Documents\\Data Analytics\\Data Immersion\\Achievement 6\\Energy_GDP_Project'"
   ]
  },
  {
   "cell_type": "code",
   "execution_count": 3,
   "id": "3f545239",
   "metadata": {},
   "outputs": [],
   "source": [
    "#import oil gas coal data\n",
    "ogc = pd.read_csv(os.path.join(path, '02 data', 'original data', 'energy_from_oil_gas_coal.csv'))"
   ]
  },
  {
   "cell_type": "code",
   "execution_count": 4,
   "id": "4f1b0cf7",
   "metadata": {},
   "outputs": [
    {
     "data": {
      "text/html": [
       "<div>\n",
       "<style scoped>\n",
       "    .dataframe tbody tr th:only-of-type {\n",
       "        vertical-align: middle;\n",
       "    }\n",
       "\n",
       "    .dataframe tbody tr th {\n",
       "        vertical-align: top;\n",
       "    }\n",
       "\n",
       "    .dataframe thead th {\n",
       "        text-align: right;\n",
       "    }\n",
       "</style>\n",
       "<table border=\"1\" class=\"dataframe\">\n",
       "  <thead>\n",
       "    <tr style=\"text-align: right;\">\n",
       "      <th></th>\n",
       "      <th>country</th>\n",
       "      <th>year</th>\n",
       "      <th>combined key</th>\n",
       "      <th>%_energy_fossil_fuels</th>\n",
       "    </tr>\n",
       "  </thead>\n",
       "  <tbody>\n",
       "    <tr>\n",
       "      <th>0</th>\n",
       "      <td>Afghanistan</td>\n",
       "      <td>1990</td>\n",
       "      <td>Afghanistan, 1990</td>\n",
       "      <td>NaN</td>\n",
       "    </tr>\n",
       "    <tr>\n",
       "      <th>1</th>\n",
       "      <td>Afghanistan</td>\n",
       "      <td>1991</td>\n",
       "      <td>Afghanistan, 1991</td>\n",
       "      <td>NaN</td>\n",
       "    </tr>\n",
       "    <tr>\n",
       "      <th>2</th>\n",
       "      <td>Afghanistan</td>\n",
       "      <td>1992</td>\n",
       "      <td>Afghanistan, 1992</td>\n",
       "      <td>NaN</td>\n",
       "    </tr>\n",
       "    <tr>\n",
       "      <th>3</th>\n",
       "      <td>Afghanistan</td>\n",
       "      <td>1993</td>\n",
       "      <td>Afghanistan, 1993</td>\n",
       "      <td>NaN</td>\n",
       "    </tr>\n",
       "    <tr>\n",
       "      <th>4</th>\n",
       "      <td>Afghanistan</td>\n",
       "      <td>1994</td>\n",
       "      <td>Afghanistan, 1994</td>\n",
       "      <td>NaN</td>\n",
       "    </tr>\n",
       "  </tbody>\n",
       "</table>\n",
       "</div>"
      ],
      "text/plain": [
       "       country  year       combined key  %_energy_fossil_fuels\n",
       "0  Afghanistan  1990  Afghanistan, 1990                    NaN\n",
       "1  Afghanistan  1991  Afghanistan, 1991                    NaN\n",
       "2  Afghanistan  1992  Afghanistan, 1992                    NaN\n",
       "3  Afghanistan  1993  Afghanistan, 1993                    NaN\n",
       "4  Afghanistan  1994  Afghanistan, 1994                    NaN"
      ]
     },
     "execution_count": 4,
     "metadata": {},
     "output_type": "execute_result"
    }
   ],
   "source": [
    "#check output\n",
    "ogc.head()"
   ]
  },
  {
   "cell_type": "code",
   "execution_count": 5,
   "id": "afc0d5ea",
   "metadata": {},
   "outputs": [
    {
     "data": {
      "text/plain": [
       "country                     0\n",
       "year                        0\n",
       "combined key                0\n",
       "%_energy_fossil_fuels    2155\n",
       "dtype: int64"
      ]
     },
     "execution_count": 5,
     "metadata": {},
     "output_type": "execute_result"
    }
   ],
   "source": [
    "#check for missing values\n",
    "ogc.isnull().sum()"
   ]
  },
  {
   "cell_type": "code",
   "execution_count": 6,
   "id": "c3c8a7de",
   "metadata": {},
   "outputs": [
    {
     "data": {
      "text/plain": [
       "False    6916\n",
       "Name: count, dtype: int64"
      ]
     },
     "execution_count": 6,
     "metadata": {},
     "output_type": "execute_result"
    }
   ],
   "source": [
    "#check for duplicates\n",
    "ogc.duplicated().value_counts()"
   ]
  },
  {
   "cell_type": "code",
   "execution_count": 7,
   "id": "7f361cf3",
   "metadata": {},
   "outputs": [
    {
     "data": {
      "text/plain": [
       "(6916, 4)"
      ]
     },
     "execution_count": 7,
     "metadata": {},
     "output_type": "execute_result"
    }
   ],
   "source": [
    "ogc.shape"
   ]
  },
  {
   "cell_type": "code",
   "execution_count": 8,
   "id": "caacd5da",
   "metadata": {},
   "outputs": [
    {
     "data": {
      "text/html": [
       "<div>\n",
       "<style scoped>\n",
       "    .dataframe tbody tr th:only-of-type {\n",
       "        vertical-align: middle;\n",
       "    }\n",
       "\n",
       "    .dataframe tbody tr th {\n",
       "        vertical-align: top;\n",
       "    }\n",
       "\n",
       "    .dataframe thead th {\n",
       "        text-align: right;\n",
       "    }\n",
       "</style>\n",
       "<table border=\"1\" class=\"dataframe\">\n",
       "  <thead>\n",
       "    <tr style=\"text-align: right;\">\n",
       "      <th></th>\n",
       "      <th>year</th>\n",
       "      <th>%_energy_fossil_fuels</th>\n",
       "    </tr>\n",
       "  </thead>\n",
       "  <tbody>\n",
       "    <tr>\n",
       "      <th>count</th>\n",
       "      <td>6916.000000</td>\n",
       "      <td>4761.000000</td>\n",
       "    </tr>\n",
       "    <tr>\n",
       "      <th>mean</th>\n",
       "      <td>2002.500000</td>\n",
       "      <td>60.233161</td>\n",
       "    </tr>\n",
       "    <tr>\n",
       "      <th>std</th>\n",
       "      <td>7.500542</td>\n",
       "      <td>30.825572</td>\n",
       "    </tr>\n",
       "    <tr>\n",
       "      <th>min</th>\n",
       "      <td>1990.000000</td>\n",
       "      <td>0.000000</td>\n",
       "    </tr>\n",
       "    <tr>\n",
       "      <th>25%</th>\n",
       "      <td>1996.000000</td>\n",
       "      <td>38.051821</td>\n",
       "    </tr>\n",
       "    <tr>\n",
       "      <th>50%</th>\n",
       "      <td>2002.500000</td>\n",
       "      <td>65.799204</td>\n",
       "    </tr>\n",
       "    <tr>\n",
       "      <th>75%</th>\n",
       "      <td>2009.000000</td>\n",
       "      <td>87.455189</td>\n",
       "    </tr>\n",
       "    <tr>\n",
       "      <th>max</th>\n",
       "      <td>2015.000000</td>\n",
       "      <td>100.000000</td>\n",
       "    </tr>\n",
       "  </tbody>\n",
       "</table>\n",
       "</div>"
      ],
      "text/plain": [
       "              year  %_energy_fossil_fuels\n",
       "count  6916.000000            4761.000000\n",
       "mean   2002.500000              60.233161\n",
       "std       7.500542              30.825572\n",
       "min    1990.000000               0.000000\n",
       "25%    1996.000000              38.051821\n",
       "50%    2002.500000              65.799204\n",
       "75%    2009.000000              87.455189\n",
       "max    2015.000000             100.000000"
      ]
     },
     "execution_count": 8,
     "metadata": {},
     "output_type": "execute_result"
    }
   ],
   "source": [
    "ogc.describe()"
   ]
  },
  {
   "cell_type": "code",
   "execution_count": 9,
   "id": "2bdf7eb9",
   "metadata": {},
   "outputs": [],
   "source": [
    "#group data by country and then look for missing values by country\n",
    "ogc_grouped = ogc.groupby('country')['%_energy_fossil_fuels'].value_counts(dropna = False)"
   ]
  },
  {
   "cell_type": "code",
   "execution_count": 10,
   "id": "fc38d870",
   "metadata": {},
   "outputs": [
    {
     "data": {
      "text/plain": [
       "country                      %_energy_fossil_fuels\n",
       "Afghanistan                  NaN                      26\n",
       "Africa Eastern and Southern  73.521705                 1\n",
       "                             66.606766                 1\n",
       "                             68.475772                 1\n",
       "                             69.501043                 1\n",
       "                                                      ..\n",
       "Zimbabwe                     70.742822                 1\n",
       "                             70.746383                 1\n",
       "                             70.909838                 1\n",
       "                             72.196417                 1\n",
       "                             72.388859                 1\n",
       "Name: count, Length: 4463, dtype: int64"
      ]
     },
     "execution_count": 10,
     "metadata": {},
     "output_type": "execute_result"
    }
   ],
   "source": [
    "ogc_grouped"
   ]
  },
  {
   "cell_type": "markdown",
   "id": "ad430e6f",
   "metadata": {},
   "source": [
    "Most of the missing values are a reulst of having no data on particualr countries. However, there are some countries that are missing some values. so rather than imputing zero for all of the values, we will create a new column that will act as a weighted average that we can then use to fill in the missing data points."
   ]
  },
  {
   "cell_type": "code",
   "execution_count": 11,
   "id": "84adc538",
   "metadata": {},
   "outputs": [],
   "source": [
    "#create a weighted average column to fill in missing data values\n",
    "ogc ['weighted_avg'] = ogc.groupby('country')['%_energy_fossil_fuels'].transform(lambda x : x.fillna(x.mean()))"
   ]
  },
  {
   "cell_type": "code",
   "execution_count": 12,
   "id": "f8c396a2",
   "metadata": {},
   "outputs": [
    {
     "data": {
      "text/html": [
       "<div>\n",
       "<style scoped>\n",
       "    .dataframe tbody tr th:only-of-type {\n",
       "        vertical-align: middle;\n",
       "    }\n",
       "\n",
       "    .dataframe tbody tr th {\n",
       "        vertical-align: top;\n",
       "    }\n",
       "\n",
       "    .dataframe thead th {\n",
       "        text-align: right;\n",
       "    }\n",
       "</style>\n",
       "<table border=\"1\" class=\"dataframe\">\n",
       "  <thead>\n",
       "    <tr style=\"text-align: right;\">\n",
       "      <th></th>\n",
       "      <th>country</th>\n",
       "      <th>year</th>\n",
       "      <th>combined key</th>\n",
       "      <th>%_energy_fossil_fuels</th>\n",
       "      <th>weighted_avg</th>\n",
       "    </tr>\n",
       "  </thead>\n",
       "  <tbody>\n",
       "    <tr>\n",
       "      <th>0</th>\n",
       "      <td>Afghanistan</td>\n",
       "      <td>1990</td>\n",
       "      <td>Afghanistan, 1990</td>\n",
       "      <td>NaN</td>\n",
       "      <td>NaN</td>\n",
       "    </tr>\n",
       "    <tr>\n",
       "      <th>1</th>\n",
       "      <td>Afghanistan</td>\n",
       "      <td>1991</td>\n",
       "      <td>Afghanistan, 1991</td>\n",
       "      <td>NaN</td>\n",
       "      <td>NaN</td>\n",
       "    </tr>\n",
       "    <tr>\n",
       "      <th>2</th>\n",
       "      <td>Afghanistan</td>\n",
       "      <td>1992</td>\n",
       "      <td>Afghanistan, 1992</td>\n",
       "      <td>NaN</td>\n",
       "      <td>NaN</td>\n",
       "    </tr>\n",
       "    <tr>\n",
       "      <th>3</th>\n",
       "      <td>Afghanistan</td>\n",
       "      <td>1993</td>\n",
       "      <td>Afghanistan, 1993</td>\n",
       "      <td>NaN</td>\n",
       "      <td>NaN</td>\n",
       "    </tr>\n",
       "    <tr>\n",
       "      <th>4</th>\n",
       "      <td>Afghanistan</td>\n",
       "      <td>1994</td>\n",
       "      <td>Afghanistan, 1994</td>\n",
       "      <td>NaN</td>\n",
       "      <td>NaN</td>\n",
       "    </tr>\n",
       "    <tr>\n",
       "      <th>...</th>\n",
       "      <td>...</td>\n",
       "      <td>...</td>\n",
       "      <td>...</td>\n",
       "      <td>...</td>\n",
       "      <td>...</td>\n",
       "    </tr>\n",
       "    <tr>\n",
       "      <th>145</th>\n",
       "      <td>American Samoa</td>\n",
       "      <td>2005</td>\n",
       "      <td>American Samoa, 2005</td>\n",
       "      <td>NaN</td>\n",
       "      <td>NaN</td>\n",
       "    </tr>\n",
       "    <tr>\n",
       "      <th>146</th>\n",
       "      <td>American Samoa</td>\n",
       "      <td>2006</td>\n",
       "      <td>American Samoa, 2006</td>\n",
       "      <td>NaN</td>\n",
       "      <td>NaN</td>\n",
       "    </tr>\n",
       "    <tr>\n",
       "      <th>147</th>\n",
       "      <td>American Samoa</td>\n",
       "      <td>2007</td>\n",
       "      <td>American Samoa, 2007</td>\n",
       "      <td>NaN</td>\n",
       "      <td>NaN</td>\n",
       "    </tr>\n",
       "    <tr>\n",
       "      <th>148</th>\n",
       "      <td>American Samoa</td>\n",
       "      <td>2008</td>\n",
       "      <td>American Samoa, 2008</td>\n",
       "      <td>NaN</td>\n",
       "      <td>NaN</td>\n",
       "    </tr>\n",
       "    <tr>\n",
       "      <th>149</th>\n",
       "      <td>American Samoa</td>\n",
       "      <td>2009</td>\n",
       "      <td>American Samoa, 2009</td>\n",
       "      <td>NaN</td>\n",
       "      <td>NaN</td>\n",
       "    </tr>\n",
       "  </tbody>\n",
       "</table>\n",
       "<p>150 rows × 5 columns</p>\n",
       "</div>"
      ],
      "text/plain": [
       "            country  year          combined key  %_energy_fossil_fuels  \\\n",
       "0       Afghanistan  1990     Afghanistan, 1990                    NaN   \n",
       "1       Afghanistan  1991     Afghanistan, 1991                    NaN   \n",
       "2       Afghanistan  1992     Afghanistan, 1992                    NaN   \n",
       "3       Afghanistan  1993     Afghanistan, 1993                    NaN   \n",
       "4       Afghanistan  1994     Afghanistan, 1994                    NaN   \n",
       "..              ...   ...                   ...                    ...   \n",
       "145  American Samoa  2005  American Samoa, 2005                    NaN   \n",
       "146  American Samoa  2006  American Samoa, 2006                    NaN   \n",
       "147  American Samoa  2007  American Samoa, 2007                    NaN   \n",
       "148  American Samoa  2008  American Samoa, 2008                    NaN   \n",
       "149  American Samoa  2009  American Samoa, 2009                    NaN   \n",
       "\n",
       "     weighted_avg  \n",
       "0             NaN  \n",
       "1             NaN  \n",
       "2             NaN  \n",
       "3             NaN  \n",
       "4             NaN  \n",
       "..            ...  \n",
       "145           NaN  \n",
       "146           NaN  \n",
       "147           NaN  \n",
       "148           NaN  \n",
       "149           NaN  \n",
       "\n",
       "[150 rows x 5 columns]"
      ]
     },
     "execution_count": 12,
     "metadata": {},
     "output_type": "execute_result"
    }
   ],
   "source": [
    "ogc.head(150)"
   ]
  },
  {
   "cell_type": "code",
   "execution_count": 13,
   "id": "bdf92668",
   "metadata": {},
   "outputs": [
    {
     "data": {
      "text/plain": [
       "country                     0\n",
       "year                        0\n",
       "combined key                0\n",
       "%_energy_fossil_fuels    2155\n",
       "weighted_avg             2080\n",
       "dtype: int64"
      ]
     },
     "execution_count": 13,
     "metadata": {},
     "output_type": "execute_result"
    }
   ],
   "source": [
    "ogc.isnull().sum()"
   ]
  },
  {
   "cell_type": "code",
   "execution_count": 14,
   "id": "a0f6b979",
   "metadata": {},
   "outputs": [],
   "source": [
    "#fill rest of the missing values with 0\n",
    "ogc['weighted_avg'].fillna(0, inplace = True)"
   ]
  },
  {
   "cell_type": "code",
   "execution_count": 15,
   "id": "663b15a1",
   "metadata": {},
   "outputs": [
    {
     "data": {
      "text/html": [
       "<div>\n",
       "<style scoped>\n",
       "    .dataframe tbody tr th:only-of-type {\n",
       "        vertical-align: middle;\n",
       "    }\n",
       "\n",
       "    .dataframe tbody tr th {\n",
       "        vertical-align: top;\n",
       "    }\n",
       "\n",
       "    .dataframe thead th {\n",
       "        text-align: right;\n",
       "    }\n",
       "</style>\n",
       "<table border=\"1\" class=\"dataframe\">\n",
       "  <thead>\n",
       "    <tr style=\"text-align: right;\">\n",
       "      <th></th>\n",
       "      <th>country</th>\n",
       "      <th>year</th>\n",
       "      <th>combined key</th>\n",
       "      <th>%_energy_fossil_fuels</th>\n",
       "      <th>weighted_avg</th>\n",
       "    </tr>\n",
       "  </thead>\n",
       "  <tbody>\n",
       "    <tr>\n",
       "      <th>0</th>\n",
       "      <td>Afghanistan</td>\n",
       "      <td>1990</td>\n",
       "      <td>Afghanistan, 1990</td>\n",
       "      <td>NaN</td>\n",
       "      <td>0.0</td>\n",
       "    </tr>\n",
       "    <tr>\n",
       "      <th>1</th>\n",
       "      <td>Afghanistan</td>\n",
       "      <td>1991</td>\n",
       "      <td>Afghanistan, 1991</td>\n",
       "      <td>NaN</td>\n",
       "      <td>0.0</td>\n",
       "    </tr>\n",
       "    <tr>\n",
       "      <th>2</th>\n",
       "      <td>Afghanistan</td>\n",
       "      <td>1992</td>\n",
       "      <td>Afghanistan, 1992</td>\n",
       "      <td>NaN</td>\n",
       "      <td>0.0</td>\n",
       "    </tr>\n",
       "    <tr>\n",
       "      <th>3</th>\n",
       "      <td>Afghanistan</td>\n",
       "      <td>1993</td>\n",
       "      <td>Afghanistan, 1993</td>\n",
       "      <td>NaN</td>\n",
       "      <td>0.0</td>\n",
       "    </tr>\n",
       "    <tr>\n",
       "      <th>4</th>\n",
       "      <td>Afghanistan</td>\n",
       "      <td>1994</td>\n",
       "      <td>Afghanistan, 1994</td>\n",
       "      <td>NaN</td>\n",
       "      <td>0.0</td>\n",
       "    </tr>\n",
       "    <tr>\n",
       "      <th>...</th>\n",
       "      <td>...</td>\n",
       "      <td>...</td>\n",
       "      <td>...</td>\n",
       "      <td>...</td>\n",
       "      <td>...</td>\n",
       "    </tr>\n",
       "    <tr>\n",
       "      <th>145</th>\n",
       "      <td>American Samoa</td>\n",
       "      <td>2005</td>\n",
       "      <td>American Samoa, 2005</td>\n",
       "      <td>NaN</td>\n",
       "      <td>0.0</td>\n",
       "    </tr>\n",
       "    <tr>\n",
       "      <th>146</th>\n",
       "      <td>American Samoa</td>\n",
       "      <td>2006</td>\n",
       "      <td>American Samoa, 2006</td>\n",
       "      <td>NaN</td>\n",
       "      <td>0.0</td>\n",
       "    </tr>\n",
       "    <tr>\n",
       "      <th>147</th>\n",
       "      <td>American Samoa</td>\n",
       "      <td>2007</td>\n",
       "      <td>American Samoa, 2007</td>\n",
       "      <td>NaN</td>\n",
       "      <td>0.0</td>\n",
       "    </tr>\n",
       "    <tr>\n",
       "      <th>148</th>\n",
       "      <td>American Samoa</td>\n",
       "      <td>2008</td>\n",
       "      <td>American Samoa, 2008</td>\n",
       "      <td>NaN</td>\n",
       "      <td>0.0</td>\n",
       "    </tr>\n",
       "    <tr>\n",
       "      <th>149</th>\n",
       "      <td>American Samoa</td>\n",
       "      <td>2009</td>\n",
       "      <td>American Samoa, 2009</td>\n",
       "      <td>NaN</td>\n",
       "      <td>0.0</td>\n",
       "    </tr>\n",
       "  </tbody>\n",
       "</table>\n",
       "<p>150 rows × 5 columns</p>\n",
       "</div>"
      ],
      "text/plain": [
       "            country  year          combined key  %_energy_fossil_fuels  \\\n",
       "0       Afghanistan  1990     Afghanistan, 1990                    NaN   \n",
       "1       Afghanistan  1991     Afghanistan, 1991                    NaN   \n",
       "2       Afghanistan  1992     Afghanistan, 1992                    NaN   \n",
       "3       Afghanistan  1993     Afghanistan, 1993                    NaN   \n",
       "4       Afghanistan  1994     Afghanistan, 1994                    NaN   \n",
       "..              ...   ...                   ...                    ...   \n",
       "145  American Samoa  2005  American Samoa, 2005                    NaN   \n",
       "146  American Samoa  2006  American Samoa, 2006                    NaN   \n",
       "147  American Samoa  2007  American Samoa, 2007                    NaN   \n",
       "148  American Samoa  2008  American Samoa, 2008                    NaN   \n",
       "149  American Samoa  2009  American Samoa, 2009                    NaN   \n",
       "\n",
       "     weighted_avg  \n",
       "0             0.0  \n",
       "1             0.0  \n",
       "2             0.0  \n",
       "3             0.0  \n",
       "4             0.0  \n",
       "..            ...  \n",
       "145           0.0  \n",
       "146           0.0  \n",
       "147           0.0  \n",
       "148           0.0  \n",
       "149           0.0  \n",
       "\n",
       "[150 rows x 5 columns]"
      ]
     },
     "execution_count": 15,
     "metadata": {},
     "output_type": "execute_result"
    }
   ],
   "source": [
    "ogc.head(150)"
   ]
  },
  {
   "cell_type": "code",
   "execution_count": 16,
   "id": "5decfd08",
   "metadata": {},
   "outputs": [
    {
     "data": {
      "text/plain": [
       "country                     0\n",
       "year                        0\n",
       "combined key                0\n",
       "%_energy_fossil_fuels    2155\n",
       "weighted_avg                0\n",
       "dtype: int64"
      ]
     },
     "execution_count": 16,
     "metadata": {},
     "output_type": "execute_result"
    }
   ],
   "source": [
    "#check for missing values in weighted average column\n",
    "ogc.isnull().sum()"
   ]
  },
  {
   "cell_type": "code",
   "execution_count": 17,
   "id": "aebcb965",
   "metadata": {},
   "outputs": [],
   "source": [
    "#drop %_energy_fossil_fules column\n",
    "ogc = ogc.drop(columns = ('%_energy_fossil_fuels'))"
   ]
  },
  {
   "cell_type": "code",
   "execution_count": 18,
   "id": "031a18a7",
   "metadata": {},
   "outputs": [
    {
     "data": {
      "text/html": [
       "<div>\n",
       "<style scoped>\n",
       "    .dataframe tbody tr th:only-of-type {\n",
       "        vertical-align: middle;\n",
       "    }\n",
       "\n",
       "    .dataframe tbody tr th {\n",
       "        vertical-align: top;\n",
       "    }\n",
       "\n",
       "    .dataframe thead th {\n",
       "        text-align: right;\n",
       "    }\n",
       "</style>\n",
       "<table border=\"1\" class=\"dataframe\">\n",
       "  <thead>\n",
       "    <tr style=\"text-align: right;\">\n",
       "      <th></th>\n",
       "      <th>country</th>\n",
       "      <th>year</th>\n",
       "      <th>combined key</th>\n",
       "      <th>weighted_avg</th>\n",
       "    </tr>\n",
       "  </thead>\n",
       "  <tbody>\n",
       "    <tr>\n",
       "      <th>0</th>\n",
       "      <td>Afghanistan</td>\n",
       "      <td>1990</td>\n",
       "      <td>Afghanistan, 1990</td>\n",
       "      <td>0.0</td>\n",
       "    </tr>\n",
       "    <tr>\n",
       "      <th>1</th>\n",
       "      <td>Afghanistan</td>\n",
       "      <td>1991</td>\n",
       "      <td>Afghanistan, 1991</td>\n",
       "      <td>0.0</td>\n",
       "    </tr>\n",
       "    <tr>\n",
       "      <th>2</th>\n",
       "      <td>Afghanistan</td>\n",
       "      <td>1992</td>\n",
       "      <td>Afghanistan, 1992</td>\n",
       "      <td>0.0</td>\n",
       "    </tr>\n",
       "    <tr>\n",
       "      <th>3</th>\n",
       "      <td>Afghanistan</td>\n",
       "      <td>1993</td>\n",
       "      <td>Afghanistan, 1993</td>\n",
       "      <td>0.0</td>\n",
       "    </tr>\n",
       "    <tr>\n",
       "      <th>4</th>\n",
       "      <td>Afghanistan</td>\n",
       "      <td>1994</td>\n",
       "      <td>Afghanistan, 1994</td>\n",
       "      <td>0.0</td>\n",
       "    </tr>\n",
       "  </tbody>\n",
       "</table>\n",
       "</div>"
      ],
      "text/plain": [
       "       country  year       combined key  weighted_avg\n",
       "0  Afghanistan  1990  Afghanistan, 1990           0.0\n",
       "1  Afghanistan  1991  Afghanistan, 1991           0.0\n",
       "2  Afghanistan  1992  Afghanistan, 1992           0.0\n",
       "3  Afghanistan  1993  Afghanistan, 1993           0.0\n",
       "4  Afghanistan  1994  Afghanistan, 1994           0.0"
      ]
     },
     "execution_count": 18,
     "metadata": {},
     "output_type": "execute_result"
    }
   ],
   "source": [
    "ogc.head()"
   ]
  },
  {
   "cell_type": "code",
   "execution_count": 19,
   "id": "daff3904",
   "metadata": {},
   "outputs": [
    {
     "data": {
      "text/plain": [
       "country         0\n",
       "year            0\n",
       "combined key    0\n",
       "weighted_avg    0\n",
       "dtype: int64"
      ]
     },
     "execution_count": 19,
     "metadata": {},
     "output_type": "execute_result"
    }
   ],
   "source": [
    "ogc.isnull().sum()"
   ]
  },
  {
   "cell_type": "code",
   "execution_count": 20,
   "id": "445463f6",
   "metadata": {},
   "outputs": [],
   "source": [
    "#rename weighted_average column to be new %_energy_fossil_fules column\n",
    "ogc.rename( columns = {'weighted_avg' : '%_energy_fossil_fuels'}, inplace = True)"
   ]
  },
  {
   "cell_type": "code",
   "execution_count": 21,
   "id": "0c17f6ad",
   "metadata": {},
   "outputs": [
    {
     "data": {
      "text/html": [
       "<div>\n",
       "<style scoped>\n",
       "    .dataframe tbody tr th:only-of-type {\n",
       "        vertical-align: middle;\n",
       "    }\n",
       "\n",
       "    .dataframe tbody tr th {\n",
       "        vertical-align: top;\n",
       "    }\n",
       "\n",
       "    .dataframe thead th {\n",
       "        text-align: right;\n",
       "    }\n",
       "</style>\n",
       "<table border=\"1\" class=\"dataframe\">\n",
       "  <thead>\n",
       "    <tr style=\"text-align: right;\">\n",
       "      <th></th>\n",
       "      <th>country</th>\n",
       "      <th>year</th>\n",
       "      <th>combined key</th>\n",
       "      <th>%_energy_fossil_fuels</th>\n",
       "    </tr>\n",
       "  </thead>\n",
       "  <tbody>\n",
       "    <tr>\n",
       "      <th>0</th>\n",
       "      <td>Afghanistan</td>\n",
       "      <td>1990</td>\n",
       "      <td>Afghanistan, 1990</td>\n",
       "      <td>0.0</td>\n",
       "    </tr>\n",
       "    <tr>\n",
       "      <th>1</th>\n",
       "      <td>Afghanistan</td>\n",
       "      <td>1991</td>\n",
       "      <td>Afghanistan, 1991</td>\n",
       "      <td>0.0</td>\n",
       "    </tr>\n",
       "    <tr>\n",
       "      <th>2</th>\n",
       "      <td>Afghanistan</td>\n",
       "      <td>1992</td>\n",
       "      <td>Afghanistan, 1992</td>\n",
       "      <td>0.0</td>\n",
       "    </tr>\n",
       "    <tr>\n",
       "      <th>3</th>\n",
       "      <td>Afghanistan</td>\n",
       "      <td>1993</td>\n",
       "      <td>Afghanistan, 1993</td>\n",
       "      <td>0.0</td>\n",
       "    </tr>\n",
       "    <tr>\n",
       "      <th>4</th>\n",
       "      <td>Afghanistan</td>\n",
       "      <td>1994</td>\n",
       "      <td>Afghanistan, 1994</td>\n",
       "      <td>0.0</td>\n",
       "    </tr>\n",
       "  </tbody>\n",
       "</table>\n",
       "</div>"
      ],
      "text/plain": [
       "       country  year       combined key  %_energy_fossil_fuels\n",
       "0  Afghanistan  1990  Afghanistan, 1990                    0.0\n",
       "1  Afghanistan  1991  Afghanistan, 1991                    0.0\n",
       "2  Afghanistan  1992  Afghanistan, 1992                    0.0\n",
       "3  Afghanistan  1993  Afghanistan, 1993                    0.0\n",
       "4  Afghanistan  1994  Afghanistan, 1994                    0.0"
      ]
     },
     "execution_count": 21,
     "metadata": {},
     "output_type": "execute_result"
    }
   ],
   "source": [
    "#check output\n",
    "ogc.head()"
   ]
  },
  {
   "cell_type": "code",
   "execution_count": 22,
   "id": "f5c94ecf",
   "metadata": {},
   "outputs": [
    {
     "data": {
      "text/html": [
       "<div>\n",
       "<style scoped>\n",
       "    .dataframe tbody tr th:only-of-type {\n",
       "        vertical-align: middle;\n",
       "    }\n",
       "\n",
       "    .dataframe tbody tr th {\n",
       "        vertical-align: top;\n",
       "    }\n",
       "\n",
       "    .dataframe thead th {\n",
       "        text-align: right;\n",
       "    }\n",
       "</style>\n",
       "<table border=\"1\" class=\"dataframe\">\n",
       "  <thead>\n",
       "    <tr style=\"text-align: right;\">\n",
       "      <th></th>\n",
       "      <th>year</th>\n",
       "      <th>%_energy_fossil_fuels</th>\n",
       "    </tr>\n",
       "  </thead>\n",
       "  <tbody>\n",
       "    <tr>\n",
       "      <th>count</th>\n",
       "      <td>6916.000000</td>\n",
       "      <td>6916.000000</td>\n",
       "    </tr>\n",
       "    <tr>\n",
       "      <th>mean</th>\n",
       "      <td>2002.500000</td>\n",
       "      <td>42.292349</td>\n",
       "    </tr>\n",
       "    <tr>\n",
       "      <th>std</th>\n",
       "      <td>7.500542</td>\n",
       "      <td>37.897291</td>\n",
       "    </tr>\n",
       "    <tr>\n",
       "      <th>min</th>\n",
       "      <td>1990.000000</td>\n",
       "      <td>0.000000</td>\n",
       "    </tr>\n",
       "    <tr>\n",
       "      <th>25%</th>\n",
       "      <td>1996.000000</td>\n",
       "      <td>0.000000</td>\n",
       "    </tr>\n",
       "    <tr>\n",
       "      <th>50%</th>\n",
       "      <td>2002.500000</td>\n",
       "      <td>41.938147</td>\n",
       "    </tr>\n",
       "    <tr>\n",
       "      <th>75%</th>\n",
       "      <td>2009.000000</td>\n",
       "      <td>76.383645</td>\n",
       "    </tr>\n",
       "    <tr>\n",
       "      <th>max</th>\n",
       "      <td>2015.000000</td>\n",
       "      <td>100.000000</td>\n",
       "    </tr>\n",
       "  </tbody>\n",
       "</table>\n",
       "</div>"
      ],
      "text/plain": [
       "              year  %_energy_fossil_fuels\n",
       "count  6916.000000            6916.000000\n",
       "mean   2002.500000              42.292349\n",
       "std       7.500542              37.897291\n",
       "min    1990.000000               0.000000\n",
       "25%    1996.000000               0.000000\n",
       "50%    2002.500000              41.938147\n",
       "75%    2009.000000              76.383645\n",
       "max    2015.000000             100.000000"
      ]
     },
     "execution_count": 22,
     "metadata": {},
     "output_type": "execute_result"
    }
   ],
   "source": [
    "#check output\n",
    "ogc.describe()"
   ]
  },
  {
   "cell_type": "code",
   "execution_count": 23,
   "id": "0d607cad",
   "metadata": {},
   "outputs": [
    {
     "data": {
      "text/plain": [
       "(6916, 4)"
      ]
     },
     "execution_count": 23,
     "metadata": {},
     "output_type": "execute_result"
    }
   ],
   "source": [
    "#check shape\n",
    "ogc.shape"
   ]
  },
  {
   "cell_type": "code",
   "execution_count": 28,
   "id": "68f25a9c",
   "metadata": {},
   "outputs": [],
   "source": [
    "#export wrangled oil gas coal data\n",
    "ogc.to_csv(os.path.join(path, '02 data', 'prepared data', 'energy_from_oil_gas_coal_wrangled.csv'))"
   ]
  },
  {
   "cell_type": "code",
   "execution_count": null,
   "id": "221331a7",
   "metadata": {},
   "outputs": [],
   "source": []
  }
 ],
 "metadata": {
  "kernelspec": {
   "display_name": "Python 3 (ipykernel)",
   "language": "python",
   "name": "python3"
  },
  "language_info": {
   "codemirror_mode": {
    "name": "ipython",
    "version": 3
   },
   "file_extension": ".py",
   "mimetype": "text/x-python",
   "name": "python",
   "nbconvert_exporter": "python",
   "pygments_lexer": "ipython3",
   "version": "3.11.5"
  }
 },
 "nbformat": 4,
 "nbformat_minor": 5
}
