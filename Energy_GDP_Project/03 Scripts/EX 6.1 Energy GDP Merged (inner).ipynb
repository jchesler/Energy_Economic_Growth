{
 "cells": [
  {
   "cell_type": "code",
   "execution_count": 2,
   "id": "689fba66",
   "metadata": {},
   "outputs": [],
   "source": [
    "#import libraries\n",
    "import pandas as pd\n",
    "import numpy as np\n",
    "import os"
   ]
  },
  {
   "cell_type": "code",
   "execution_count": 3,
   "id": "9d1fd783",
   "metadata": {},
   "outputs": [],
   "source": [
    "#create path\n",
    "path = r'C:\\Users\\jacob\\Documents\\Data Analytics\\Data Immersion\\Achievement 6\\Energy_GDP_Project'"
   ]
  },
  {
   "cell_type": "code",
   "execution_count": 4,
   "id": "80951bd8",
   "metadata": {},
   "outputs": [],
   "source": [
    "#import electricity access data (ea)\n",
    "ea = pd.read_csv(os.path.join(path, '02 data', 'prepared data', 'electricity_access_wrangled.csv'))"
   ]
  },
  {
   "cell_type": "code",
   "execution_count": 5,
   "id": "0e683131",
   "metadata": {},
   "outputs": [
    {
     "data": {
      "text/html": [
       "<div>\n",
       "<style scoped>\n",
       "    .dataframe tbody tr th:only-of-type {\n",
       "        vertical-align: middle;\n",
       "    }\n",
       "\n",
       "    .dataframe tbody tr th {\n",
       "        vertical-align: top;\n",
       "    }\n",
       "\n",
       "    .dataframe thead th {\n",
       "        text-align: right;\n",
       "    }\n",
       "</style>\n",
       "<table border=\"1\" class=\"dataframe\">\n",
       "  <thead>\n",
       "    <tr style=\"text-align: right;\">\n",
       "      <th></th>\n",
       "      <th>country</th>\n",
       "      <th>year</th>\n",
       "      <th>combined_key</th>\n",
       "      <th>ea_%_pop</th>\n",
       "    </tr>\n",
       "  </thead>\n",
       "  <tbody>\n",
       "    <tr>\n",
       "      <th>0</th>\n",
       "      <td>Afghanistan</td>\n",
       "      <td>2000</td>\n",
       "      <td>Afghanistan, 2000</td>\n",
       "      <td>4.446891</td>\n",
       "    </tr>\n",
       "    <tr>\n",
       "      <th>1</th>\n",
       "      <td>Afghanistan</td>\n",
       "      <td>2001</td>\n",
       "      <td>Afghanistan, 2001</td>\n",
       "      <td>9.294527</td>\n",
       "    </tr>\n",
       "    <tr>\n",
       "      <th>2</th>\n",
       "      <td>Afghanistan</td>\n",
       "      <td>2002</td>\n",
       "      <td>Afghanistan, 2002</td>\n",
       "      <td>14.133616</td>\n",
       "    </tr>\n",
       "    <tr>\n",
       "      <th>3</th>\n",
       "      <td>Afghanistan</td>\n",
       "      <td>2003</td>\n",
       "      <td>Afghanistan, 2003</td>\n",
       "      <td>18.971165</td>\n",
       "    </tr>\n",
       "    <tr>\n",
       "      <th>4</th>\n",
       "      <td>Afghanistan</td>\n",
       "      <td>2004</td>\n",
       "      <td>Afghanistan, 2004</td>\n",
       "      <td>23.814182</td>\n",
       "    </tr>\n",
       "  </tbody>\n",
       "</table>\n",
       "</div>"
      ],
      "text/plain": [
       "       country  year       combined_key   ea_%_pop\n",
       "0  Afghanistan  2000  Afghanistan, 2000   4.446891\n",
       "1  Afghanistan  2001  Afghanistan, 2001   9.294527\n",
       "2  Afghanistan  2002  Afghanistan, 2002  14.133616\n",
       "3  Afghanistan  2003  Afghanistan, 2003  18.971165\n",
       "4  Afghanistan  2004  Afghanistan, 2004  23.814182"
      ]
     },
     "execution_count": 5,
     "metadata": {},
     "output_type": "execute_result"
    }
   ],
   "source": [
    "ea.head()"
   ]
  },
  {
   "cell_type": "code",
   "execution_count": 6,
   "id": "0e5d4834",
   "metadata": {},
   "outputs": [
    {
     "data": {
      "text/plain": [
       "(7348, 4)"
      ]
     },
     "execution_count": 6,
     "metadata": {},
     "output_type": "execute_result"
    }
   ],
   "source": [
    "ea.shape"
   ]
  },
  {
   "cell_type": "code",
   "execution_count": 7,
   "id": "2cb3348e",
   "metadata": {},
   "outputs": [],
   "source": [
    "#import energy from nuclear (nuc)\n",
    "nuc = pd.read_csv(os.path.join(path, '02 data', 'prepared data', 'energy_from_nuclear_wrangled.csv'))"
   ]
  },
  {
   "cell_type": "code",
   "execution_count": 8,
   "id": "6b703ea4",
   "metadata": {},
   "outputs": [
    {
     "data": {
      "text/html": [
       "<div>\n",
       "<style scoped>\n",
       "    .dataframe tbody tr th:only-of-type {\n",
       "        vertical-align: middle;\n",
       "    }\n",
       "\n",
       "    .dataframe tbody tr th {\n",
       "        vertical-align: top;\n",
       "    }\n",
       "\n",
       "    .dataframe thead th {\n",
       "        text-align: right;\n",
       "    }\n",
       "</style>\n",
       "<table border=\"1\" class=\"dataframe\">\n",
       "  <thead>\n",
       "    <tr style=\"text-align: right;\">\n",
       "      <th></th>\n",
       "      <th>country</th>\n",
       "      <th>year</th>\n",
       "      <th>combined_key</th>\n",
       "      <th>%_energy_nuclear</th>\n",
       "    </tr>\n",
       "  </thead>\n",
       "  <tbody>\n",
       "    <tr>\n",
       "      <th>0</th>\n",
       "      <td>Afghanistan</td>\n",
       "      <td>1990</td>\n",
       "      <td>Afghanistan, 1990</td>\n",
       "      <td>0.0</td>\n",
       "    </tr>\n",
       "    <tr>\n",
       "      <th>1</th>\n",
       "      <td>Afghanistan</td>\n",
       "      <td>1991</td>\n",
       "      <td>Afghanistan, 1991</td>\n",
       "      <td>0.0</td>\n",
       "    </tr>\n",
       "    <tr>\n",
       "      <th>2</th>\n",
       "      <td>Afghanistan</td>\n",
       "      <td>1992</td>\n",
       "      <td>Afghanistan, 1992</td>\n",
       "      <td>0.0</td>\n",
       "    </tr>\n",
       "    <tr>\n",
       "      <th>3</th>\n",
       "      <td>Afghanistan</td>\n",
       "      <td>1993</td>\n",
       "      <td>Afghanistan, 1993</td>\n",
       "      <td>0.0</td>\n",
       "    </tr>\n",
       "    <tr>\n",
       "      <th>4</th>\n",
       "      <td>Afghanistan</td>\n",
       "      <td>1994</td>\n",
       "      <td>Afghanistan, 1994</td>\n",
       "      <td>0.0</td>\n",
       "    </tr>\n",
       "  </tbody>\n",
       "</table>\n",
       "</div>"
      ],
      "text/plain": [
       "       country  year       combined_key  %_energy_nuclear\n",
       "0  Afghanistan  1990  Afghanistan, 1990               0.0\n",
       "1  Afghanistan  1991  Afghanistan, 1991               0.0\n",
       "2  Afghanistan  1992  Afghanistan, 1992               0.0\n",
       "3  Afghanistan  1993  Afghanistan, 1993               0.0\n",
       "4  Afghanistan  1994  Afghanistan, 1994               0.0"
      ]
     },
     "execution_count": 8,
     "metadata": {},
     "output_type": "execute_result"
    }
   ],
   "source": [
    "#check output\n",
    "nuc.head()"
   ]
  },
  {
   "cell_type": "code",
   "execution_count": 9,
   "id": "f63310f0",
   "metadata": {},
   "outputs": [
    {
     "data": {
      "text/plain": [
       "(6916, 4)"
      ]
     },
     "execution_count": 9,
     "metadata": {},
     "output_type": "execute_result"
    }
   ],
   "source": [
    "nuc.shape"
   ]
  },
  {
   "cell_type": "code",
   "execution_count": 10,
   "id": "56f7bc30",
   "metadata": {},
   "outputs": [],
   "source": [
    "#import energy from oil gas coal (ogc) data\n",
    "ogc = pd.read_csv(os.path.join(path,'02 data', 'prepared data', 'energy_from_oil_gas_coal_wrangled.csv'))"
   ]
  },
  {
   "cell_type": "code",
   "execution_count": 11,
   "id": "d30b3e48",
   "metadata": {},
   "outputs": [
    {
     "data": {
      "text/html": [
       "<div>\n",
       "<style scoped>\n",
       "    .dataframe tbody tr th:only-of-type {\n",
       "        vertical-align: middle;\n",
       "    }\n",
       "\n",
       "    .dataframe tbody tr th {\n",
       "        vertical-align: top;\n",
       "    }\n",
       "\n",
       "    .dataframe thead th {\n",
       "        text-align: right;\n",
       "    }\n",
       "</style>\n",
       "<table border=\"1\" class=\"dataframe\">\n",
       "  <thead>\n",
       "    <tr style=\"text-align: right;\">\n",
       "      <th></th>\n",
       "      <th>country</th>\n",
       "      <th>year</th>\n",
       "      <th>combined_key</th>\n",
       "      <th>%_energy_fossil_fuels</th>\n",
       "    </tr>\n",
       "  </thead>\n",
       "  <tbody>\n",
       "    <tr>\n",
       "      <th>0</th>\n",
       "      <td>Afghanistan</td>\n",
       "      <td>1990</td>\n",
       "      <td>Afghanistan, 1990</td>\n",
       "      <td>0.0</td>\n",
       "    </tr>\n",
       "    <tr>\n",
       "      <th>1</th>\n",
       "      <td>Afghanistan</td>\n",
       "      <td>1991</td>\n",
       "      <td>Afghanistan, 1991</td>\n",
       "      <td>0.0</td>\n",
       "    </tr>\n",
       "    <tr>\n",
       "      <th>2</th>\n",
       "      <td>Afghanistan</td>\n",
       "      <td>1992</td>\n",
       "      <td>Afghanistan, 1992</td>\n",
       "      <td>0.0</td>\n",
       "    </tr>\n",
       "    <tr>\n",
       "      <th>3</th>\n",
       "      <td>Afghanistan</td>\n",
       "      <td>1993</td>\n",
       "      <td>Afghanistan, 1993</td>\n",
       "      <td>0.0</td>\n",
       "    </tr>\n",
       "    <tr>\n",
       "      <th>4</th>\n",
       "      <td>Afghanistan</td>\n",
       "      <td>1994</td>\n",
       "      <td>Afghanistan, 1994</td>\n",
       "      <td>0.0</td>\n",
       "    </tr>\n",
       "  </tbody>\n",
       "</table>\n",
       "</div>"
      ],
      "text/plain": [
       "       country  year       combined_key  %_energy_fossil_fuels\n",
       "0  Afghanistan  1990  Afghanistan, 1990                    0.0\n",
       "1  Afghanistan  1991  Afghanistan, 1991                    0.0\n",
       "2  Afghanistan  1992  Afghanistan, 1992                    0.0\n",
       "3  Afghanistan  1993  Afghanistan, 1993                    0.0\n",
       "4  Afghanistan  1994  Afghanistan, 1994                    0.0"
      ]
     },
     "execution_count": 11,
     "metadata": {},
     "output_type": "execute_result"
    }
   ],
   "source": [
    "#check output\n",
    "ogc.head()"
   ]
  },
  {
   "cell_type": "code",
   "execution_count": 12,
   "id": "be8e8bef",
   "metadata": {},
   "outputs": [
    {
     "data": {
      "text/plain": [
       "(6916, 4)"
      ]
     },
     "execution_count": 12,
     "metadata": {},
     "output_type": "execute_result"
    }
   ],
   "source": [
    "ogc.shape"
   ]
  },
  {
   "cell_type": "code",
   "execution_count": 13,
   "id": "652f01a5",
   "metadata": {},
   "outputs": [],
   "source": [
    "#import enrgy from renewables data (renew)\n",
    "renew = pd.read_csv(os.path.join(path, '02 data', 'prepared data', 'energy_from_renewables_wrangled.csv'))"
   ]
  },
  {
   "cell_type": "code",
   "execution_count": 14,
   "id": "6a9dcc6b",
   "metadata": {},
   "outputs": [
    {
     "data": {
      "text/html": [
       "<div>\n",
       "<style scoped>\n",
       "    .dataframe tbody tr th:only-of-type {\n",
       "        vertical-align: middle;\n",
       "    }\n",
       "\n",
       "    .dataframe tbody tr th {\n",
       "        vertical-align: top;\n",
       "    }\n",
       "\n",
       "    .dataframe thead th {\n",
       "        text-align: right;\n",
       "    }\n",
       "</style>\n",
       "<table border=\"1\" class=\"dataframe\">\n",
       "  <thead>\n",
       "    <tr style=\"text-align: right;\">\n",
       "      <th></th>\n",
       "      <th>country</th>\n",
       "      <th>year</th>\n",
       "      <th>combined_key</th>\n",
       "      <th>%_energy_renewables</th>\n",
       "    </tr>\n",
       "  </thead>\n",
       "  <tbody>\n",
       "    <tr>\n",
       "      <th>0</th>\n",
       "      <td>Afghanistan</td>\n",
       "      <td>1990</td>\n",
       "      <td>Afghanistan, 1990</td>\n",
       "      <td>0.0</td>\n",
       "    </tr>\n",
       "    <tr>\n",
       "      <th>1</th>\n",
       "      <td>Afghanistan</td>\n",
       "      <td>1991</td>\n",
       "      <td>Afghanistan, 1991</td>\n",
       "      <td>0.0</td>\n",
       "    </tr>\n",
       "    <tr>\n",
       "      <th>2</th>\n",
       "      <td>Afghanistan</td>\n",
       "      <td>1992</td>\n",
       "      <td>Afghanistan, 1992</td>\n",
       "      <td>0.0</td>\n",
       "    </tr>\n",
       "    <tr>\n",
       "      <th>3</th>\n",
       "      <td>Afghanistan</td>\n",
       "      <td>1993</td>\n",
       "      <td>Afghanistan, 1993</td>\n",
       "      <td>0.0</td>\n",
       "    </tr>\n",
       "    <tr>\n",
       "      <th>4</th>\n",
       "      <td>Afghanistan</td>\n",
       "      <td>1994</td>\n",
       "      <td>Afghanistan, 1994</td>\n",
       "      <td>0.0</td>\n",
       "    </tr>\n",
       "  </tbody>\n",
       "</table>\n",
       "</div>"
      ],
      "text/plain": [
       "       country  year       combined_key  %_energy_renewables\n",
       "0  Afghanistan  1990  Afghanistan, 1990                  0.0\n",
       "1  Afghanistan  1991  Afghanistan, 1991                  0.0\n",
       "2  Afghanistan  1992  Afghanistan, 1992                  0.0\n",
       "3  Afghanistan  1993  Afghanistan, 1993                  0.0\n",
       "4  Afghanistan  1994  Afghanistan, 1994                  0.0"
      ]
     },
     "execution_count": 14,
     "metadata": {},
     "output_type": "execute_result"
    }
   ],
   "source": [
    "#check output\n",
    "renew.head()"
   ]
  },
  {
   "cell_type": "code",
   "execution_count": 15,
   "id": "ebd1bc2b",
   "metadata": {},
   "outputs": [
    {
     "data": {
      "text/plain": [
       "(6916, 4)"
      ]
     },
     "execution_count": 15,
     "metadata": {},
     "output_type": "execute_result"
    }
   ],
   "source": [
    "renew.shape"
   ]
  },
  {
   "cell_type": "code",
   "execution_count": 16,
   "id": "45552264",
   "metadata": {},
   "outputs": [],
   "source": [
    "#import GDP per capita data (gdp)\n",
    "gdp = pd.read_csv(os.path.join(path, '02 data', 'prepared data', 'gdp_per_capita_wrangled.csv'))"
   ]
  },
  {
   "cell_type": "code",
   "execution_count": 17,
   "id": "db612454",
   "metadata": {},
   "outputs": [
    {
     "data": {
      "text/html": [
       "<div>\n",
       "<style scoped>\n",
       "    .dataframe tbody tr th:only-of-type {\n",
       "        vertical-align: middle;\n",
       "    }\n",
       "\n",
       "    .dataframe tbody tr th {\n",
       "        vertical-align: top;\n",
       "    }\n",
       "\n",
       "    .dataframe thead th {\n",
       "        text-align: right;\n",
       "    }\n",
       "</style>\n",
       "<table border=\"1\" class=\"dataframe\">\n",
       "  <thead>\n",
       "    <tr style=\"text-align: right;\">\n",
       "      <th></th>\n",
       "      <th>country</th>\n",
       "      <th>year</th>\n",
       "      <th>combined_key</th>\n",
       "      <th>gdp</th>\n",
       "    </tr>\n",
       "  </thead>\n",
       "  <tbody>\n",
       "    <tr>\n",
       "      <th>0</th>\n",
       "      <td>Afghanistan</td>\n",
       "      <td>1990</td>\n",
       "      <td>Afghanistan, 1990</td>\n",
       "      <td>183.532775</td>\n",
       "    </tr>\n",
       "    <tr>\n",
       "      <th>1</th>\n",
       "      <td>Afghanistan</td>\n",
       "      <td>1991</td>\n",
       "      <td>Afghanistan, 1991</td>\n",
       "      <td>183.532775</td>\n",
       "    </tr>\n",
       "    <tr>\n",
       "      <th>2</th>\n",
       "      <td>Afghanistan</td>\n",
       "      <td>1992</td>\n",
       "      <td>Afghanistan, 1992</td>\n",
       "      <td>183.532775</td>\n",
       "    </tr>\n",
       "    <tr>\n",
       "      <th>3</th>\n",
       "      <td>Afghanistan</td>\n",
       "      <td>1993</td>\n",
       "      <td>Afghanistan, 1993</td>\n",
       "      <td>183.532775</td>\n",
       "    </tr>\n",
       "    <tr>\n",
       "      <th>4</th>\n",
       "      <td>Afghanistan</td>\n",
       "      <td>1994</td>\n",
       "      <td>Afghanistan, 1994</td>\n",
       "      <td>183.532775</td>\n",
       "    </tr>\n",
       "  </tbody>\n",
       "</table>\n",
       "</div>"
      ],
      "text/plain": [
       "       country  year       combined_key         gdp\n",
       "0  Afghanistan  1990  Afghanistan, 1990  183.532775\n",
       "1  Afghanistan  1991  Afghanistan, 1991  183.532775\n",
       "2  Afghanistan  1992  Afghanistan, 1992  183.532775\n",
       "3  Afghanistan  1993  Afghanistan, 1993  183.532775\n",
       "4  Afghanistan  1994  Afghanistan, 1994  183.532775"
      ]
     },
     "execution_count": 17,
     "metadata": {},
     "output_type": "execute_result"
    }
   ],
   "source": [
    "#check output\n",
    "gdp.head()"
   ]
  },
  {
   "cell_type": "code",
   "execution_count": 18,
   "id": "f51510f0",
   "metadata": {},
   "outputs": [
    {
     "data": {
      "text/plain": [
       "(8646, 4)"
      ]
     },
     "execution_count": 18,
     "metadata": {},
     "output_type": "execute_result"
    }
   ],
   "source": [
    "gdp.shape"
   ]
  },
  {
   "cell_type": "code",
   "execution_count": 19,
   "id": "8262ae23",
   "metadata": {},
   "outputs": [],
   "source": [
    "#merge ea and nuc dataframes using combined key (inner)\n",
    "ea_nuc = pd.merge(ea,nuc, on ='combined_key', how = 'inner')"
   ]
  },
  {
   "cell_type": "code",
   "execution_count": 20,
   "id": "2912e937",
   "metadata": {},
   "outputs": [
    {
     "data": {
      "text/plain": [
       "(5770, 7)"
      ]
     },
     "execution_count": 20,
     "metadata": {},
     "output_type": "execute_result"
    }
   ],
   "source": [
    "ea_nuc.shape"
   ]
  },
  {
   "cell_type": "code",
   "execution_count": 21,
   "id": "64822ccb",
   "metadata": {},
   "outputs": [
    {
     "data": {
      "text/html": [
       "<div>\n",
       "<style scoped>\n",
       "    .dataframe tbody tr th:only-of-type {\n",
       "        vertical-align: middle;\n",
       "    }\n",
       "\n",
       "    .dataframe tbody tr th {\n",
       "        vertical-align: top;\n",
       "    }\n",
       "\n",
       "    .dataframe thead th {\n",
       "        text-align: right;\n",
       "    }\n",
       "</style>\n",
       "<table border=\"1\" class=\"dataframe\">\n",
       "  <thead>\n",
       "    <tr style=\"text-align: right;\">\n",
       "      <th></th>\n",
       "      <th>country_x</th>\n",
       "      <th>year_x</th>\n",
       "      <th>combined_key</th>\n",
       "      <th>ea_%_pop</th>\n",
       "      <th>country_y</th>\n",
       "      <th>year_y</th>\n",
       "      <th>%_energy_nuclear</th>\n",
       "    </tr>\n",
       "  </thead>\n",
       "  <tbody>\n",
       "    <tr>\n",
       "      <th>0</th>\n",
       "      <td>Afghanistan</td>\n",
       "      <td>2000</td>\n",
       "      <td>Afghanistan, 2000</td>\n",
       "      <td>4.446891</td>\n",
       "      <td>Afghanistan</td>\n",
       "      <td>2000</td>\n",
       "      <td>0.0</td>\n",
       "    </tr>\n",
       "    <tr>\n",
       "      <th>1</th>\n",
       "      <td>Afghanistan</td>\n",
       "      <td>2001</td>\n",
       "      <td>Afghanistan, 2001</td>\n",
       "      <td>9.294527</td>\n",
       "      <td>Afghanistan</td>\n",
       "      <td>2001</td>\n",
       "      <td>0.0</td>\n",
       "    </tr>\n",
       "    <tr>\n",
       "      <th>2</th>\n",
       "      <td>Afghanistan</td>\n",
       "      <td>2002</td>\n",
       "      <td>Afghanistan, 2002</td>\n",
       "      <td>14.133616</td>\n",
       "      <td>Afghanistan</td>\n",
       "      <td>2002</td>\n",
       "      <td>0.0</td>\n",
       "    </tr>\n",
       "    <tr>\n",
       "      <th>3</th>\n",
       "      <td>Afghanistan</td>\n",
       "      <td>2003</td>\n",
       "      <td>Afghanistan, 2003</td>\n",
       "      <td>18.971165</td>\n",
       "      <td>Afghanistan</td>\n",
       "      <td>2003</td>\n",
       "      <td>0.0</td>\n",
       "    </tr>\n",
       "    <tr>\n",
       "      <th>4</th>\n",
       "      <td>Afghanistan</td>\n",
       "      <td>2004</td>\n",
       "      <td>Afghanistan, 2004</td>\n",
       "      <td>23.814182</td>\n",
       "      <td>Afghanistan</td>\n",
       "      <td>2004</td>\n",
       "      <td>0.0</td>\n",
       "    </tr>\n",
       "  </tbody>\n",
       "</table>\n",
       "</div>"
      ],
      "text/plain": [
       "     country_x  year_x       combined_key   ea_%_pop    country_y  year_y  \\\n",
       "0  Afghanistan    2000  Afghanistan, 2000   4.446891  Afghanistan    2000   \n",
       "1  Afghanistan    2001  Afghanistan, 2001   9.294527  Afghanistan    2001   \n",
       "2  Afghanistan    2002  Afghanistan, 2002  14.133616  Afghanistan    2002   \n",
       "3  Afghanistan    2003  Afghanistan, 2003  18.971165  Afghanistan    2003   \n",
       "4  Afghanistan    2004  Afghanistan, 2004  23.814182  Afghanistan    2004   \n",
       "\n",
       "   %_energy_nuclear  \n",
       "0               0.0  \n",
       "1               0.0  \n",
       "2               0.0  \n",
       "3               0.0  \n",
       "4               0.0  "
      ]
     },
     "execution_count": 21,
     "metadata": {},
     "output_type": "execute_result"
    }
   ],
   "source": [
    "ea_nuc.head()"
   ]
  },
  {
   "cell_type": "code",
   "execution_count": 22,
   "id": "c2cb21b5",
   "metadata": {},
   "outputs": [],
   "source": [
    "#drop all country and year columns\n",
    "ea_nuc = ea_nuc.drop(columns = ['country_x' , 'year_x', 'country_y', 'year_y'])"
   ]
  },
  {
   "cell_type": "code",
   "execution_count": 23,
   "id": "2fa90260",
   "metadata": {},
   "outputs": [
    {
     "data": {
      "text/html": [
       "<div>\n",
       "<style scoped>\n",
       "    .dataframe tbody tr th:only-of-type {\n",
       "        vertical-align: middle;\n",
       "    }\n",
       "\n",
       "    .dataframe tbody tr th {\n",
       "        vertical-align: top;\n",
       "    }\n",
       "\n",
       "    .dataframe thead th {\n",
       "        text-align: right;\n",
       "    }\n",
       "</style>\n",
       "<table border=\"1\" class=\"dataframe\">\n",
       "  <thead>\n",
       "    <tr style=\"text-align: right;\">\n",
       "      <th></th>\n",
       "      <th>combined_key</th>\n",
       "      <th>ea_%_pop</th>\n",
       "      <th>%_energy_nuclear</th>\n",
       "    </tr>\n",
       "  </thead>\n",
       "  <tbody>\n",
       "    <tr>\n",
       "      <th>0</th>\n",
       "      <td>Afghanistan, 2000</td>\n",
       "      <td>4.446891</td>\n",
       "      <td>0.0</td>\n",
       "    </tr>\n",
       "    <tr>\n",
       "      <th>1</th>\n",
       "      <td>Afghanistan, 2001</td>\n",
       "      <td>9.294527</td>\n",
       "      <td>0.0</td>\n",
       "    </tr>\n",
       "    <tr>\n",
       "      <th>2</th>\n",
       "      <td>Afghanistan, 2002</td>\n",
       "      <td>14.133616</td>\n",
       "      <td>0.0</td>\n",
       "    </tr>\n",
       "    <tr>\n",
       "      <th>3</th>\n",
       "      <td>Afghanistan, 2003</td>\n",
       "      <td>18.971165</td>\n",
       "      <td>0.0</td>\n",
       "    </tr>\n",
       "    <tr>\n",
       "      <th>4</th>\n",
       "      <td>Afghanistan, 2004</td>\n",
       "      <td>23.814182</td>\n",
       "      <td>0.0</td>\n",
       "    </tr>\n",
       "  </tbody>\n",
       "</table>\n",
       "</div>"
      ],
      "text/plain": [
       "        combined_key   ea_%_pop  %_energy_nuclear\n",
       "0  Afghanistan, 2000   4.446891               0.0\n",
       "1  Afghanistan, 2001   9.294527               0.0\n",
       "2  Afghanistan, 2002  14.133616               0.0\n",
       "3  Afghanistan, 2003  18.971165               0.0\n",
       "4  Afghanistan, 2004  23.814182               0.0"
      ]
     },
     "execution_count": 23,
     "metadata": {},
     "output_type": "execute_result"
    }
   ],
   "source": [
    "ea_nuc.head()"
   ]
  },
  {
   "cell_type": "code",
   "execution_count": 24,
   "id": "d0eef8b8",
   "metadata": {},
   "outputs": [
    {
     "data": {
      "text/plain": [
       "(5770, 3)"
      ]
     },
     "execution_count": 24,
     "metadata": {},
     "output_type": "execute_result"
    }
   ],
   "source": [
    "ea_nuc.shape"
   ]
  },
  {
   "cell_type": "code",
   "execution_count": 25,
   "id": "ab2581c8",
   "metadata": {},
   "outputs": [],
   "source": [
    "#merge ea_nuc with renewables (inner)\n",
    "ea_nuc_renew = pd.merge(ea_nuc, renew, on = 'combined_key', how = 'inner')"
   ]
  },
  {
   "cell_type": "code",
   "execution_count": 26,
   "id": "3493ec4c",
   "metadata": {},
   "outputs": [
    {
     "data": {
      "text/plain": [
       "(5770, 6)"
      ]
     },
     "execution_count": 26,
     "metadata": {},
     "output_type": "execute_result"
    }
   ],
   "source": [
    "ea_nuc_renew.shape"
   ]
  },
  {
   "cell_type": "code",
   "execution_count": 27,
   "id": "2f822fc8",
   "metadata": {},
   "outputs": [
    {
     "data": {
      "text/html": [
       "<div>\n",
       "<style scoped>\n",
       "    .dataframe tbody tr th:only-of-type {\n",
       "        vertical-align: middle;\n",
       "    }\n",
       "\n",
       "    .dataframe tbody tr th {\n",
       "        vertical-align: top;\n",
       "    }\n",
       "\n",
       "    .dataframe thead th {\n",
       "        text-align: right;\n",
       "    }\n",
       "</style>\n",
       "<table border=\"1\" class=\"dataframe\">\n",
       "  <thead>\n",
       "    <tr style=\"text-align: right;\">\n",
       "      <th></th>\n",
       "      <th>combined_key</th>\n",
       "      <th>ea_%_pop</th>\n",
       "      <th>%_energy_nuclear</th>\n",
       "      <th>country</th>\n",
       "      <th>year</th>\n",
       "      <th>%_energy_renewables</th>\n",
       "    </tr>\n",
       "  </thead>\n",
       "  <tbody>\n",
       "    <tr>\n",
       "      <th>0</th>\n",
       "      <td>Afghanistan, 2000</td>\n",
       "      <td>4.446891</td>\n",
       "      <td>0.0</td>\n",
       "      <td>Afghanistan</td>\n",
       "      <td>2000</td>\n",
       "      <td>0.0</td>\n",
       "    </tr>\n",
       "    <tr>\n",
       "      <th>1</th>\n",
       "      <td>Afghanistan, 2001</td>\n",
       "      <td>9.294527</td>\n",
       "      <td>0.0</td>\n",
       "      <td>Afghanistan</td>\n",
       "      <td>2001</td>\n",
       "      <td>0.0</td>\n",
       "    </tr>\n",
       "    <tr>\n",
       "      <th>2</th>\n",
       "      <td>Afghanistan, 2002</td>\n",
       "      <td>14.133616</td>\n",
       "      <td>0.0</td>\n",
       "      <td>Afghanistan</td>\n",
       "      <td>2002</td>\n",
       "      <td>0.0</td>\n",
       "    </tr>\n",
       "    <tr>\n",
       "      <th>3</th>\n",
       "      <td>Afghanistan, 2003</td>\n",
       "      <td>18.971165</td>\n",
       "      <td>0.0</td>\n",
       "      <td>Afghanistan</td>\n",
       "      <td>2003</td>\n",
       "      <td>0.0</td>\n",
       "    </tr>\n",
       "    <tr>\n",
       "      <th>4</th>\n",
       "      <td>Afghanistan, 2004</td>\n",
       "      <td>23.814182</td>\n",
       "      <td>0.0</td>\n",
       "      <td>Afghanistan</td>\n",
       "      <td>2004</td>\n",
       "      <td>0.0</td>\n",
       "    </tr>\n",
       "  </tbody>\n",
       "</table>\n",
       "</div>"
      ],
      "text/plain": [
       "        combined_key   ea_%_pop  %_energy_nuclear      country  year  \\\n",
       "0  Afghanistan, 2000   4.446891               0.0  Afghanistan  2000   \n",
       "1  Afghanistan, 2001   9.294527               0.0  Afghanistan  2001   \n",
       "2  Afghanistan, 2002  14.133616               0.0  Afghanistan  2002   \n",
       "3  Afghanistan, 2003  18.971165               0.0  Afghanistan  2003   \n",
       "4  Afghanistan, 2004  23.814182               0.0  Afghanistan  2004   \n",
       "\n",
       "   %_energy_renewables  \n",
       "0                  0.0  \n",
       "1                  0.0  \n",
       "2                  0.0  \n",
       "3                  0.0  \n",
       "4                  0.0  "
      ]
     },
     "execution_count": 27,
     "metadata": {},
     "output_type": "execute_result"
    }
   ],
   "source": [
    "ea_nuc_renew.head()"
   ]
  },
  {
   "cell_type": "code",
   "execution_count": 28,
   "id": "548877a0",
   "metadata": {},
   "outputs": [],
   "source": [
    "#drop country and year columns from new dataframe\n",
    "ea_nuc_renew = ea_nuc_renew.drop(columns = ['country', 'year'])"
   ]
  },
  {
   "cell_type": "code",
   "execution_count": 29,
   "id": "84c5a9b9",
   "metadata": {},
   "outputs": [
    {
     "data": {
      "text/plain": [
       "(5770, 4)"
      ]
     },
     "execution_count": 29,
     "metadata": {},
     "output_type": "execute_result"
    }
   ],
   "source": [
    "#check shape\n",
    "ea_nuc_renew.shape"
   ]
  },
  {
   "cell_type": "code",
   "execution_count": 30,
   "id": "c905e85e",
   "metadata": {},
   "outputs": [],
   "source": [
    "#merge ea_nuc_renew with ogc (inner)\n",
    "ea_nuc_renew_ogc =pd.merge(ea_nuc_renew, ogc, on = 'combined_key', how = 'inner')"
   ]
  },
  {
   "cell_type": "code",
   "execution_count": 31,
   "id": "82991bb3",
   "metadata": {},
   "outputs": [
    {
     "data": {
      "text/plain": [
       "(5770, 7)"
      ]
     },
     "execution_count": 31,
     "metadata": {},
     "output_type": "execute_result"
    }
   ],
   "source": [
    "#check shape\n",
    "ea_nuc_renew_ogc.shape"
   ]
  },
  {
   "cell_type": "code",
   "execution_count": 32,
   "id": "5aaf2a85",
   "metadata": {},
   "outputs": [
    {
     "data": {
      "text/html": [
       "<div>\n",
       "<style scoped>\n",
       "    .dataframe tbody tr th:only-of-type {\n",
       "        vertical-align: middle;\n",
       "    }\n",
       "\n",
       "    .dataframe tbody tr th {\n",
       "        vertical-align: top;\n",
       "    }\n",
       "\n",
       "    .dataframe thead th {\n",
       "        text-align: right;\n",
       "    }\n",
       "</style>\n",
       "<table border=\"1\" class=\"dataframe\">\n",
       "  <thead>\n",
       "    <tr style=\"text-align: right;\">\n",
       "      <th></th>\n",
       "      <th>combined_key</th>\n",
       "      <th>ea_%_pop</th>\n",
       "      <th>%_energy_nuclear</th>\n",
       "      <th>%_energy_renewables</th>\n",
       "      <th>country</th>\n",
       "      <th>year</th>\n",
       "      <th>%_energy_fossil_fuels</th>\n",
       "    </tr>\n",
       "  </thead>\n",
       "  <tbody>\n",
       "    <tr>\n",
       "      <th>0</th>\n",
       "      <td>Afghanistan, 2000</td>\n",
       "      <td>4.446891</td>\n",
       "      <td>0.0</td>\n",
       "      <td>0.0</td>\n",
       "      <td>Afghanistan</td>\n",
       "      <td>2000</td>\n",
       "      <td>0.0</td>\n",
       "    </tr>\n",
       "    <tr>\n",
       "      <th>1</th>\n",
       "      <td>Afghanistan, 2001</td>\n",
       "      <td>9.294527</td>\n",
       "      <td>0.0</td>\n",
       "      <td>0.0</td>\n",
       "      <td>Afghanistan</td>\n",
       "      <td>2001</td>\n",
       "      <td>0.0</td>\n",
       "    </tr>\n",
       "    <tr>\n",
       "      <th>2</th>\n",
       "      <td>Afghanistan, 2002</td>\n",
       "      <td>14.133616</td>\n",
       "      <td>0.0</td>\n",
       "      <td>0.0</td>\n",
       "      <td>Afghanistan</td>\n",
       "      <td>2002</td>\n",
       "      <td>0.0</td>\n",
       "    </tr>\n",
       "    <tr>\n",
       "      <th>3</th>\n",
       "      <td>Afghanistan, 2003</td>\n",
       "      <td>18.971165</td>\n",
       "      <td>0.0</td>\n",
       "      <td>0.0</td>\n",
       "      <td>Afghanistan</td>\n",
       "      <td>2003</td>\n",
       "      <td>0.0</td>\n",
       "    </tr>\n",
       "    <tr>\n",
       "      <th>4</th>\n",
       "      <td>Afghanistan, 2004</td>\n",
       "      <td>23.814182</td>\n",
       "      <td>0.0</td>\n",
       "      <td>0.0</td>\n",
       "      <td>Afghanistan</td>\n",
       "      <td>2004</td>\n",
       "      <td>0.0</td>\n",
       "    </tr>\n",
       "  </tbody>\n",
       "</table>\n",
       "</div>"
      ],
      "text/plain": [
       "        combined_key   ea_%_pop  %_energy_nuclear  %_energy_renewables  \\\n",
       "0  Afghanistan, 2000   4.446891               0.0                  0.0   \n",
       "1  Afghanistan, 2001   9.294527               0.0                  0.0   \n",
       "2  Afghanistan, 2002  14.133616               0.0                  0.0   \n",
       "3  Afghanistan, 2003  18.971165               0.0                  0.0   \n",
       "4  Afghanistan, 2004  23.814182               0.0                  0.0   \n",
       "\n",
       "       country  year  %_energy_fossil_fuels  \n",
       "0  Afghanistan  2000                    0.0  \n",
       "1  Afghanistan  2001                    0.0  \n",
       "2  Afghanistan  2002                    0.0  \n",
       "3  Afghanistan  2003                    0.0  \n",
       "4  Afghanistan  2004                    0.0  "
      ]
     },
     "execution_count": 32,
     "metadata": {},
     "output_type": "execute_result"
    }
   ],
   "source": [
    "#check output\n",
    "ea_nuc_renew_ogc.head()"
   ]
  },
  {
   "cell_type": "code",
   "execution_count": 33,
   "id": "4cc39cec",
   "metadata": {},
   "outputs": [],
   "source": [
    "#drop country and year column from new dataframe\n",
    "ea_nuc_renew_ogc = ea_nuc_renew_ogc.drop(columns = ['country', 'year'])"
   ]
  },
  {
   "cell_type": "code",
   "execution_count": 34,
   "id": "c7978a35",
   "metadata": {},
   "outputs": [
    {
     "data": {
      "text/html": [
       "<div>\n",
       "<style scoped>\n",
       "    .dataframe tbody tr th:only-of-type {\n",
       "        vertical-align: middle;\n",
       "    }\n",
       "\n",
       "    .dataframe tbody tr th {\n",
       "        vertical-align: top;\n",
       "    }\n",
       "\n",
       "    .dataframe thead th {\n",
       "        text-align: right;\n",
       "    }\n",
       "</style>\n",
       "<table border=\"1\" class=\"dataframe\">\n",
       "  <thead>\n",
       "    <tr style=\"text-align: right;\">\n",
       "      <th></th>\n",
       "      <th>combined_key</th>\n",
       "      <th>ea_%_pop</th>\n",
       "      <th>%_energy_nuclear</th>\n",
       "      <th>%_energy_renewables</th>\n",
       "      <th>%_energy_fossil_fuels</th>\n",
       "    </tr>\n",
       "  </thead>\n",
       "  <tbody>\n",
       "    <tr>\n",
       "      <th>0</th>\n",
       "      <td>Afghanistan, 2000</td>\n",
       "      <td>4.446891</td>\n",
       "      <td>0.0</td>\n",
       "      <td>0.0</td>\n",
       "      <td>0.0</td>\n",
       "    </tr>\n",
       "    <tr>\n",
       "      <th>1</th>\n",
       "      <td>Afghanistan, 2001</td>\n",
       "      <td>9.294527</td>\n",
       "      <td>0.0</td>\n",
       "      <td>0.0</td>\n",
       "      <td>0.0</td>\n",
       "    </tr>\n",
       "    <tr>\n",
       "      <th>2</th>\n",
       "      <td>Afghanistan, 2002</td>\n",
       "      <td>14.133616</td>\n",
       "      <td>0.0</td>\n",
       "      <td>0.0</td>\n",
       "      <td>0.0</td>\n",
       "    </tr>\n",
       "    <tr>\n",
       "      <th>3</th>\n",
       "      <td>Afghanistan, 2003</td>\n",
       "      <td>18.971165</td>\n",
       "      <td>0.0</td>\n",
       "      <td>0.0</td>\n",
       "      <td>0.0</td>\n",
       "    </tr>\n",
       "    <tr>\n",
       "      <th>4</th>\n",
       "      <td>Afghanistan, 2004</td>\n",
       "      <td>23.814182</td>\n",
       "      <td>0.0</td>\n",
       "      <td>0.0</td>\n",
       "      <td>0.0</td>\n",
       "    </tr>\n",
       "  </tbody>\n",
       "</table>\n",
       "</div>"
      ],
      "text/plain": [
       "        combined_key   ea_%_pop  %_energy_nuclear  %_energy_renewables  \\\n",
       "0  Afghanistan, 2000   4.446891               0.0                  0.0   \n",
       "1  Afghanistan, 2001   9.294527               0.0                  0.0   \n",
       "2  Afghanistan, 2002  14.133616               0.0                  0.0   \n",
       "3  Afghanistan, 2003  18.971165               0.0                  0.0   \n",
       "4  Afghanistan, 2004  23.814182               0.0                  0.0   \n",
       "\n",
       "   %_energy_fossil_fuels  \n",
       "0                    0.0  \n",
       "1                    0.0  \n",
       "2                    0.0  \n",
       "3                    0.0  \n",
       "4                    0.0  "
      ]
     },
     "execution_count": 34,
     "metadata": {},
     "output_type": "execute_result"
    }
   ],
   "source": [
    "#check output of new dataframe\n",
    "ea_nuc_renew_ogc.head()"
   ]
  },
  {
   "cell_type": "code",
   "execution_count": 35,
   "id": "9b9d92af",
   "metadata": {},
   "outputs": [],
   "source": [
    "#merge ea_nuc_renew_ogc with gdp data (inner)\n",
    "energy_gdp_merged = pd.merge(ea_nuc_renew_ogc, gdp, on = 'combined_key', how = 'inner')"
   ]
  },
  {
   "cell_type": "code",
   "execution_count": 36,
   "id": "d6cb3b03",
   "metadata": {},
   "outputs": [
    {
     "data": {
      "text/plain": [
       "(5711, 8)"
      ]
     },
     "execution_count": 36,
     "metadata": {},
     "output_type": "execute_result"
    }
   ],
   "source": [
    "#check shape of all merged dataframes\n",
    "energy_gdp_merged.shape"
   ]
  },
  {
   "cell_type": "code",
   "execution_count": 37,
   "id": "bd670131",
   "metadata": {},
   "outputs": [
    {
     "data": {
      "text/html": [
       "<div>\n",
       "<style scoped>\n",
       "    .dataframe tbody tr th:only-of-type {\n",
       "        vertical-align: middle;\n",
       "    }\n",
       "\n",
       "    .dataframe tbody tr th {\n",
       "        vertical-align: top;\n",
       "    }\n",
       "\n",
       "    .dataframe thead th {\n",
       "        text-align: right;\n",
       "    }\n",
       "</style>\n",
       "<table border=\"1\" class=\"dataframe\">\n",
       "  <thead>\n",
       "    <tr style=\"text-align: right;\">\n",
       "      <th></th>\n",
       "      <th>combined_key</th>\n",
       "      <th>ea_%_pop</th>\n",
       "      <th>%_energy_nuclear</th>\n",
       "      <th>%_energy_renewables</th>\n",
       "      <th>%_energy_fossil_fuels</th>\n",
       "      <th>country</th>\n",
       "      <th>year</th>\n",
       "      <th>gdp</th>\n",
       "    </tr>\n",
       "  </thead>\n",
       "  <tbody>\n",
       "    <tr>\n",
       "      <th>0</th>\n",
       "      <td>Afghanistan, 2000</td>\n",
       "      <td>4.446891</td>\n",
       "      <td>0.0</td>\n",
       "      <td>0.0</td>\n",
       "      <td>0.0</td>\n",
       "      <td>Afghanistan</td>\n",
       "      <td>2000</td>\n",
       "      <td>183.532775</td>\n",
       "    </tr>\n",
       "    <tr>\n",
       "      <th>1</th>\n",
       "      <td>Afghanistan, 2001</td>\n",
       "      <td>9.294527</td>\n",
       "      <td>0.0</td>\n",
       "      <td>0.0</td>\n",
       "      <td>0.0</td>\n",
       "      <td>Afghanistan</td>\n",
       "      <td>2001</td>\n",
       "      <td>183.532775</td>\n",
       "    </tr>\n",
       "    <tr>\n",
       "      <th>2</th>\n",
       "      <td>Afghanistan, 2002</td>\n",
       "      <td>14.133616</td>\n",
       "      <td>0.0</td>\n",
       "      <td>0.0</td>\n",
       "      <td>0.0</td>\n",
       "      <td>Afghanistan</td>\n",
       "      <td>2002</td>\n",
       "      <td>183.532775</td>\n",
       "    </tr>\n",
       "    <tr>\n",
       "      <th>3</th>\n",
       "      <td>Afghanistan, 2003</td>\n",
       "      <td>18.971165</td>\n",
       "      <td>0.0</td>\n",
       "      <td>0.0</td>\n",
       "      <td>0.0</td>\n",
       "      <td>Afghanistan</td>\n",
       "      <td>2003</td>\n",
       "      <td>200.462376</td>\n",
       "    </tr>\n",
       "    <tr>\n",
       "      <th>4</th>\n",
       "      <td>Afghanistan, 2004</td>\n",
       "      <td>23.814182</td>\n",
       "      <td>0.0</td>\n",
       "      <td>0.0</td>\n",
       "      <td>0.0</td>\n",
       "      <td>Afghanistan</td>\n",
       "      <td>2004</td>\n",
       "      <td>221.657662</td>\n",
       "    </tr>\n",
       "  </tbody>\n",
       "</table>\n",
       "</div>"
      ],
      "text/plain": [
       "        combined_key   ea_%_pop  %_energy_nuclear  %_energy_renewables  \\\n",
       "0  Afghanistan, 2000   4.446891               0.0                  0.0   \n",
       "1  Afghanistan, 2001   9.294527               0.0                  0.0   \n",
       "2  Afghanistan, 2002  14.133616               0.0                  0.0   \n",
       "3  Afghanistan, 2003  18.971165               0.0                  0.0   \n",
       "4  Afghanistan, 2004  23.814182               0.0                  0.0   \n",
       "\n",
       "   %_energy_fossil_fuels      country  year         gdp  \n",
       "0                    0.0  Afghanistan  2000  183.532775  \n",
       "1                    0.0  Afghanistan  2001  183.532775  \n",
       "2                    0.0  Afghanistan  2002  183.532775  \n",
       "3                    0.0  Afghanistan  2003  200.462376  \n",
       "4                    0.0  Afghanistan  2004  221.657662  "
      ]
     },
     "execution_count": 37,
     "metadata": {},
     "output_type": "execute_result"
    }
   ],
   "source": [
    "#check output of all merged dataframes\n",
    "energy_gdp_merged.head()"
   ]
  },
  {
   "cell_type": "code",
   "execution_count": 38,
   "id": "a5680d0c",
   "metadata": {},
   "outputs": [],
   "source": [
    "#create a list to rearrange column order in the merged dataframe\n",
    "column_order = ['country', 'year', 'combined_key', 'ea_%_pop', '%_energy_nuclear', '%_energy_renewables', '%_energy_fossil_fuels', 'gdp']"
   ]
  },
  {
   "cell_type": "code",
   "execution_count": 39,
   "id": "9ef63c61",
   "metadata": {},
   "outputs": [],
   "source": [
    "#created a new dataframe merged with reorderd columns\n",
    "merged = energy_gdp_merged[column_order]"
   ]
  },
  {
   "cell_type": "code",
   "execution_count": 40,
   "id": "3e02e68f",
   "metadata": {},
   "outputs": [
    {
     "data": {
      "text/html": [
       "<div>\n",
       "<style scoped>\n",
       "    .dataframe tbody tr th:only-of-type {\n",
       "        vertical-align: middle;\n",
       "    }\n",
       "\n",
       "    .dataframe tbody tr th {\n",
       "        vertical-align: top;\n",
       "    }\n",
       "\n",
       "    .dataframe thead th {\n",
       "        text-align: right;\n",
       "    }\n",
       "</style>\n",
       "<table border=\"1\" class=\"dataframe\">\n",
       "  <thead>\n",
       "    <tr style=\"text-align: right;\">\n",
       "      <th></th>\n",
       "      <th>country</th>\n",
       "      <th>year</th>\n",
       "      <th>combined_key</th>\n",
       "      <th>ea_%_pop</th>\n",
       "      <th>%_energy_nuclear</th>\n",
       "      <th>%_energy_renewables</th>\n",
       "      <th>%_energy_fossil_fuels</th>\n",
       "      <th>gdp</th>\n",
       "    </tr>\n",
       "  </thead>\n",
       "  <tbody>\n",
       "    <tr>\n",
       "      <th>0</th>\n",
       "      <td>Afghanistan</td>\n",
       "      <td>2000</td>\n",
       "      <td>Afghanistan, 2000</td>\n",
       "      <td>4.446891</td>\n",
       "      <td>0.0</td>\n",
       "      <td>0.0</td>\n",
       "      <td>0.0</td>\n",
       "      <td>183.532775</td>\n",
       "    </tr>\n",
       "    <tr>\n",
       "      <th>1</th>\n",
       "      <td>Afghanistan</td>\n",
       "      <td>2001</td>\n",
       "      <td>Afghanistan, 2001</td>\n",
       "      <td>9.294527</td>\n",
       "      <td>0.0</td>\n",
       "      <td>0.0</td>\n",
       "      <td>0.0</td>\n",
       "      <td>183.532775</td>\n",
       "    </tr>\n",
       "    <tr>\n",
       "      <th>2</th>\n",
       "      <td>Afghanistan</td>\n",
       "      <td>2002</td>\n",
       "      <td>Afghanistan, 2002</td>\n",
       "      <td>14.133616</td>\n",
       "      <td>0.0</td>\n",
       "      <td>0.0</td>\n",
       "      <td>0.0</td>\n",
       "      <td>183.532775</td>\n",
       "    </tr>\n",
       "    <tr>\n",
       "      <th>3</th>\n",
       "      <td>Afghanistan</td>\n",
       "      <td>2003</td>\n",
       "      <td>Afghanistan, 2003</td>\n",
       "      <td>18.971165</td>\n",
       "      <td>0.0</td>\n",
       "      <td>0.0</td>\n",
       "      <td>0.0</td>\n",
       "      <td>200.462376</td>\n",
       "    </tr>\n",
       "    <tr>\n",
       "      <th>4</th>\n",
       "      <td>Afghanistan</td>\n",
       "      <td>2004</td>\n",
       "      <td>Afghanistan, 2004</td>\n",
       "      <td>23.814182</td>\n",
       "      <td>0.0</td>\n",
       "      <td>0.0</td>\n",
       "      <td>0.0</td>\n",
       "      <td>221.657662</td>\n",
       "    </tr>\n",
       "  </tbody>\n",
       "</table>\n",
       "</div>"
      ],
      "text/plain": [
       "       country  year       combined_key   ea_%_pop  %_energy_nuclear  \\\n",
       "0  Afghanistan  2000  Afghanistan, 2000   4.446891               0.0   \n",
       "1  Afghanistan  2001  Afghanistan, 2001   9.294527               0.0   \n",
       "2  Afghanistan  2002  Afghanistan, 2002  14.133616               0.0   \n",
       "3  Afghanistan  2003  Afghanistan, 2003  18.971165               0.0   \n",
       "4  Afghanistan  2004  Afghanistan, 2004  23.814182               0.0   \n",
       "\n",
       "   %_energy_renewables  %_energy_fossil_fuels         gdp  \n",
       "0                  0.0                    0.0  183.532775  \n",
       "1                  0.0                    0.0  183.532775  \n",
       "2                  0.0                    0.0  183.532775  \n",
       "3                  0.0                    0.0  200.462376  \n",
       "4                  0.0                    0.0  221.657662  "
      ]
     },
     "execution_count": 40,
     "metadata": {},
     "output_type": "execute_result"
    }
   ],
   "source": [
    "#checkoutput\n",
    "merged.head()"
   ]
  },
  {
   "cell_type": "code",
   "execution_count": 41,
   "id": "aac97461",
   "metadata": {},
   "outputs": [
    {
     "data": {
      "text/plain": [
       "(5711, 8)"
      ]
     },
     "execution_count": 41,
     "metadata": {},
     "output_type": "execute_result"
    }
   ],
   "source": [
    "#check shape of newest dataframe\n",
    "merged.shape"
   ]
  },
  {
   "cell_type": "code",
   "execution_count": 43,
   "id": "865478c6",
   "metadata": {},
   "outputs": [],
   "source": [
    "#export merged dataframe (inner)\n",
    "merged.to_csv(os.path.join(path, '02 data', 'prepared data', 'gdp_energy_merged_inner.csv',), index=False)"
   ]
  },
  {
   "cell_type": "code",
   "execution_count": null,
   "id": "0b2e1a6a",
   "metadata": {},
   "outputs": [],
   "source": []
  }
 ],
 "metadata": {
  "kernelspec": {
   "display_name": "Python 3 (ipykernel)",
   "language": "python",
   "name": "python3"
  },
  "language_info": {
   "codemirror_mode": {
    "name": "ipython",
    "version": 3
   },
   "file_extension": ".py",
   "mimetype": "text/x-python",
   "name": "python",
   "nbconvert_exporter": "python",
   "pygments_lexer": "ipython3",
   "version": "3.11.5"
  }
 },
 "nbformat": 4,
 "nbformat_minor": 5
}
