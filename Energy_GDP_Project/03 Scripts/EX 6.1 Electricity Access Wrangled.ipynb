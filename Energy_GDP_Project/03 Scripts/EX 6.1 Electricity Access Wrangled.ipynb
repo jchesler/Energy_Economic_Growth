{
 "cells": [
  {
   "cell_type": "code",
   "execution_count": 1,
   "id": "d33af5a9",
   "metadata": {},
   "outputs": [],
   "source": [
    "#import libraries\n",
    "import pandas as pd\n",
    "import numpy as np\n",
    "import os"
   ]
  },
  {
   "cell_type": "code",
   "execution_count": 2,
   "id": "da345787",
   "metadata": {},
   "outputs": [],
   "source": [
    "#create path\n",
    "path = r'C:\\Users\\jacob\\Documents\\Data Analytics\\Data Immersion\\Achievement 6\\Energy_GDP_Project'"
   ]
  },
  {
   "cell_type": "code",
   "execution_count": 3,
   "id": "e3b9aca9",
   "metadata": {},
   "outputs": [],
   "source": [
    "#import electricity access (ea) data\n",
    "ea = pd.read_csv(os.path.join(path, '02 Data', 'Original Data', 'electricity_access.csv'))"
   ]
  },
  {
   "cell_type": "code",
   "execution_count": 4,
   "id": "b8e3b6cb",
   "metadata": {},
   "outputs": [
    {
     "data": {
      "text/html": [
       "<div>\n",
       "<style scoped>\n",
       "    .dataframe tbody tr th:only-of-type {\n",
       "        vertical-align: middle;\n",
       "    }\n",
       "\n",
       "    .dataframe tbody tr th {\n",
       "        vertical-align: top;\n",
       "    }\n",
       "\n",
       "    .dataframe thead th {\n",
       "        text-align: right;\n",
       "    }\n",
       "</style>\n",
       "<table border=\"1\" class=\"dataframe\">\n",
       "  <thead>\n",
       "    <tr style=\"text-align: right;\">\n",
       "      <th></th>\n",
       "      <th>Country</th>\n",
       "      <th>Year</th>\n",
       "      <th>Combined Key</th>\n",
       "      <th>electricity_access_%_population</th>\n",
       "    </tr>\n",
       "  </thead>\n",
       "  <tbody>\n",
       "    <tr>\n",
       "      <th>0</th>\n",
       "      <td>Afghanistan</td>\n",
       "      <td>2000</td>\n",
       "      <td>Afghanistan, 2000</td>\n",
       "      <td>4.446891</td>\n",
       "    </tr>\n",
       "    <tr>\n",
       "      <th>1</th>\n",
       "      <td>Afghanistan</td>\n",
       "      <td>2001</td>\n",
       "      <td>Afghanistan, 2001</td>\n",
       "      <td>9.294527</td>\n",
       "    </tr>\n",
       "    <tr>\n",
       "      <th>2</th>\n",
       "      <td>Afghanistan</td>\n",
       "      <td>2002</td>\n",
       "      <td>Afghanistan, 2002</td>\n",
       "      <td>14.133616</td>\n",
       "    </tr>\n",
       "    <tr>\n",
       "      <th>3</th>\n",
       "      <td>Afghanistan</td>\n",
       "      <td>2003</td>\n",
       "      <td>Afghanistan, 2003</td>\n",
       "      <td>18.971165</td>\n",
       "    </tr>\n",
       "    <tr>\n",
       "      <th>4</th>\n",
       "      <td>Afghanistan</td>\n",
       "      <td>2004</td>\n",
       "      <td>Afghanistan, 2004</td>\n",
       "      <td>23.814182</td>\n",
       "    </tr>\n",
       "  </tbody>\n",
       "</table>\n",
       "</div>"
      ],
      "text/plain": [
       "       Country  Year       Combined Key  electricity_access_%_population\n",
       "0  Afghanistan  2000  Afghanistan, 2000                         4.446891\n",
       "1  Afghanistan  2001  Afghanistan, 2001                         9.294527\n",
       "2  Afghanistan  2002  Afghanistan, 2002                        14.133616\n",
       "3  Afghanistan  2003  Afghanistan, 2003                        18.971165\n",
       "4  Afghanistan  2004  Afghanistan, 2004                        23.814182"
      ]
     },
     "execution_count": 4,
     "metadata": {},
     "output_type": "execute_result"
    }
   ],
   "source": [
    "#check output\n",
    "ea.head()"
   ]
  },
  {
   "cell_type": "code",
   "execution_count": 5,
   "id": "c1ce6138",
   "metadata": {},
   "outputs": [],
   "source": [
    "#reneame electricity_access_%_population to ea_%_pop for simplicity\n",
    "ea.rename(columns = {'electricity_access_%_population' : 'ea_%_pop'}, inplace = True)"
   ]
  },
  {
   "cell_type": "code",
   "execution_count": 6,
   "id": "ceb81a5a",
   "metadata": {},
   "outputs": [
    {
     "data": {
      "text/html": [
       "<div>\n",
       "<style scoped>\n",
       "    .dataframe tbody tr th:only-of-type {\n",
       "        vertical-align: middle;\n",
       "    }\n",
       "\n",
       "    .dataframe tbody tr th {\n",
       "        vertical-align: top;\n",
       "    }\n",
       "\n",
       "    .dataframe thead th {\n",
       "        text-align: right;\n",
       "    }\n",
       "</style>\n",
       "<table border=\"1\" class=\"dataframe\">\n",
       "  <thead>\n",
       "    <tr style=\"text-align: right;\">\n",
       "      <th></th>\n",
       "      <th>Country</th>\n",
       "      <th>Year</th>\n",
       "      <th>Combined Key</th>\n",
       "      <th>ea_%_pop</th>\n",
       "    </tr>\n",
       "  </thead>\n",
       "  <tbody>\n",
       "    <tr>\n",
       "      <th>0</th>\n",
       "      <td>Afghanistan</td>\n",
       "      <td>2000</td>\n",
       "      <td>Afghanistan, 2000</td>\n",
       "      <td>4.446891</td>\n",
       "    </tr>\n",
       "    <tr>\n",
       "      <th>1</th>\n",
       "      <td>Afghanistan</td>\n",
       "      <td>2001</td>\n",
       "      <td>Afghanistan, 2001</td>\n",
       "      <td>9.294527</td>\n",
       "    </tr>\n",
       "    <tr>\n",
       "      <th>2</th>\n",
       "      <td>Afghanistan</td>\n",
       "      <td>2002</td>\n",
       "      <td>Afghanistan, 2002</td>\n",
       "      <td>14.133616</td>\n",
       "    </tr>\n",
       "    <tr>\n",
       "      <th>3</th>\n",
       "      <td>Afghanistan</td>\n",
       "      <td>2003</td>\n",
       "      <td>Afghanistan, 2003</td>\n",
       "      <td>18.971165</td>\n",
       "    </tr>\n",
       "    <tr>\n",
       "      <th>4</th>\n",
       "      <td>Afghanistan</td>\n",
       "      <td>2004</td>\n",
       "      <td>Afghanistan, 2004</td>\n",
       "      <td>23.814182</td>\n",
       "    </tr>\n",
       "  </tbody>\n",
       "</table>\n",
       "</div>"
      ],
      "text/plain": [
       "       Country  Year       Combined Key   ea_%_pop\n",
       "0  Afghanistan  2000  Afghanistan, 2000   4.446891\n",
       "1  Afghanistan  2001  Afghanistan, 2001   9.294527\n",
       "2  Afghanistan  2002  Afghanistan, 2002  14.133616\n",
       "3  Afghanistan  2003  Afghanistan, 2003  18.971165\n",
       "4  Afghanistan  2004  Afghanistan, 2004  23.814182"
      ]
     },
     "execution_count": 6,
     "metadata": {},
     "output_type": "execute_result"
    }
   ],
   "source": [
    "#check output\n",
    "ea.head()"
   ]
  },
  {
   "cell_type": "code",
   "execution_count": 7,
   "id": "d431c011",
   "metadata": {},
   "outputs": [
    {
     "data": {
      "text/plain": [
       "Country         0\n",
       "Year            0\n",
       "Combined Key    0\n",
       "ea_%_pop        0\n",
       "dtype: int64"
      ]
     },
     "execution_count": 7,
     "metadata": {},
     "output_type": "execute_result"
    }
   ],
   "source": [
    "#check for missing values of electricty access\n",
    "ea.isnull().sum()"
   ]
  },
  {
   "cell_type": "code",
   "execution_count": 8,
   "id": "d4cda1f9",
   "metadata": {},
   "outputs": [],
   "source": [
    "#check for duplicates\n",
    "ea_dups = ea.duplicated()"
   ]
  },
  {
   "cell_type": "code",
   "execution_count": 9,
   "id": "1b02199e",
   "metadata": {},
   "outputs": [
    {
     "data": {
      "text/plain": [
       "0       False\n",
       "1       False\n",
       "2       False\n",
       "3       False\n",
       "4       False\n",
       "        ...  \n",
       "7343    False\n",
       "7344    False\n",
       "7345    False\n",
       "7346    False\n",
       "7347    False\n",
       "Length: 7348, dtype: bool"
      ]
     },
     "execution_count": 9,
     "metadata": {},
     "output_type": "execute_result"
    }
   ],
   "source": [
    "#check ea_dups\n",
    "ea_dups"
   ]
  },
  {
   "cell_type": "code",
   "execution_count": 10,
   "id": "b1ea7eaf",
   "metadata": {},
   "outputs": [
    {
     "data": {
      "text/plain": [
       "False    7348\n",
       "Name: count, dtype: int64"
      ]
     },
     "execution_count": 10,
     "metadata": {},
     "output_type": "execute_result"
    }
   ],
   "source": [
    "#value counts of number of duplicated values\n",
    "ea_dups.value_counts()"
   ]
  },
  {
   "cell_type": "code",
   "execution_count": 11,
   "id": "7b00386b",
   "metadata": {},
   "outputs": [
    {
     "data": {
      "text/html": [
       "<div>\n",
       "<style scoped>\n",
       "    .dataframe tbody tr th:only-of-type {\n",
       "        vertical-align: middle;\n",
       "    }\n",
       "\n",
       "    .dataframe tbody tr th {\n",
       "        vertical-align: top;\n",
       "    }\n",
       "\n",
       "    .dataframe thead th {\n",
       "        text-align: right;\n",
       "    }\n",
       "</style>\n",
       "<table border=\"1\" class=\"dataframe\">\n",
       "  <thead>\n",
       "    <tr style=\"text-align: right;\">\n",
       "      <th></th>\n",
       "      <th>Year</th>\n",
       "      <th>ea_%_pop</th>\n",
       "    </tr>\n",
       "  </thead>\n",
       "  <tbody>\n",
       "    <tr>\n",
       "      <th>count</th>\n",
       "      <td>7348.000000</td>\n",
       "      <td>7348.000000</td>\n",
       "    </tr>\n",
       "    <tr>\n",
       "      <th>mean</th>\n",
       "      <td>2007.185357</td>\n",
       "      <td>80.758292</td>\n",
       "    </tr>\n",
       "    <tr>\n",
       "      <th>std</th>\n",
       "      <td>8.593472</td>\n",
       "      <td>28.745094</td>\n",
       "    </tr>\n",
       "    <tr>\n",
       "      <th>min</th>\n",
       "      <td>1990.000000</td>\n",
       "      <td>0.533899</td>\n",
       "    </tr>\n",
       "    <tr>\n",
       "      <th>25%</th>\n",
       "      <td>2000.000000</td>\n",
       "      <td>68.435427</td>\n",
       "    </tr>\n",
       "    <tr>\n",
       "      <th>50%</th>\n",
       "      <td>2008.000000</td>\n",
       "      <td>98.290939</td>\n",
       "    </tr>\n",
       "    <tr>\n",
       "      <th>75%</th>\n",
       "      <td>2015.000000</td>\n",
       "      <td>100.000000</td>\n",
       "    </tr>\n",
       "    <tr>\n",
       "      <th>max</th>\n",
       "      <td>2021.000000</td>\n",
       "      <td>100.000000</td>\n",
       "    </tr>\n",
       "  </tbody>\n",
       "</table>\n",
       "</div>"
      ],
      "text/plain": [
       "              Year     ea_%_pop\n",
       "count  7348.000000  7348.000000\n",
       "mean   2007.185357    80.758292\n",
       "std       8.593472    28.745094\n",
       "min    1990.000000     0.533899\n",
       "25%    2000.000000    68.435427\n",
       "50%    2008.000000    98.290939\n",
       "75%    2015.000000   100.000000\n",
       "max    2021.000000   100.000000"
      ]
     },
     "execution_count": 11,
     "metadata": {},
     "output_type": "execute_result"
    }
   ],
   "source": [
    "#check descriptive analysis\n",
    "ea.describe()"
   ]
  },
  {
   "cell_type": "markdown",
   "id": "e7676324",
   "metadata": {},
   "source": [
    "There are no missing values, no duplicate values and the descriptive analysis of the data appears to be consistent and reliable. "
   ]
  },
  {
   "cell_type": "code",
   "execution_count": 12,
   "id": "2d0ba10f",
   "metadata": {},
   "outputs": [
    {
     "data": {
      "text/plain": [
       "(7348, 4)"
      ]
     },
     "execution_count": 12,
     "metadata": {},
     "output_type": "execute_result"
    }
   ],
   "source": [
    "#shape of data\n",
    "ea.shape"
   ]
  },
  {
   "cell_type": "code",
   "execution_count": 14,
   "id": "98015210",
   "metadata": {},
   "outputs": [],
   "source": [
    "#export wrangled data\n",
    "ea.to_csv(os.path.join(path, '02 data', 'prepared data', 'electricity_access_wrangled.csv'))"
   ]
  },
  {
   "cell_type": "code",
   "execution_count": null,
   "id": "778ef6f7",
   "metadata": {},
   "outputs": [],
   "source": []
  }
 ],
 "metadata": {
  "kernelspec": {
   "display_name": "Python 3 (ipykernel)",
   "language": "python",
   "name": "python3"
  },
  "language_info": {
   "codemirror_mode": {
    "name": "ipython",
    "version": 3
   },
   "file_extension": ".py",
   "mimetype": "text/x-python",
   "name": "python",
   "nbconvert_exporter": "python",
   "pygments_lexer": "ipython3",
   "version": "3.11.5"
  }
 },
 "nbformat": 4,
 "nbformat_minor": 5
}
